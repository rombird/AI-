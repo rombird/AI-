{
 "cells": [
  {
   "cell_type": "code",
   "execution_count": null,
   "id": "36a974b2",
   "metadata": {},
   "outputs": [],
   "source": [
    "# 파일 생성 -> 문자열 쓰기\n",
    "file = open('hello.txt', 'w') # 파일이 없으면 자동생성됨('w' : 쓰기모드)\n",
    "file.write('Hello, world!')\n",
    "file.close() # 파일 닫기\n",
    "# 마우스 오른쪽 -> '파일탐색기에 표시' -> 'hello.txt'파일 열어서 확인 가능"
   ]
  },
  {
   "cell_type": "code",
   "execution_count": null,
   "id": "d332c8b4",
   "metadata": {},
   "outputs": [],
   "source": [
    "# for를 이용해서 파일에 문자열쓰기\n",
    "file = open('hello.txt', 'w')\n",
    "for i in range(1, 11):\n",
    "    data = f'{i}번째 줄입니다.\\n' # \\n : 엔터 -> write메서드는 엔터기능 X\n",
    "    file.write(data)\n",
    "file.close() # 파일 닫기\n",
    "# w -> 기존내용(Hello, world!) 사라지고 for문 출력됨"
   ]
  },
  {
   "cell_type": "code",
   "execution_count": null,
   "id": "29ca7def",
   "metadata": {},
   "outputs": [],
   "source": [
    "# for를 이용해서 파일에 새로운 내용 추가하기\n",
    "file = open('hello.txt', 'a') # 파일 열기(추가모드로)\n",
    "for i in range(11, 21):\n",
    "    data = f'{i}번째 줄입니다~~~~~~\\n'\n",
    "    file.write(data)\n",
    "file.close() # 파일 닫기\n",
    "# 여러번 실행하면 계속해서 for문이 추가로 붙게됨"
   ]
  },
  {
   "cell_type": "code",
   "execution_count": 4,
   "id": "cf227698",
   "metadata": {},
   "outputs": [],
   "source": [
    "# 파일에서 문자열 읽기\n",
    "file = open('hello.txt', 'r') # 파일 열기(읽기모드로)\n",
    "temp = file.read() # 읽은 내용을 temp변수에 담기\n",
    "file.close() # 파일 닫기"
   ]
  },
  {
   "cell_type": "code",
   "execution_count": 5,
   "id": "900f6db0",
   "metadata": {},
   "outputs": [
    {
     "name": "stdout",
     "output_type": "stream",
     "text": [
      "1번째 줄입니다.\n",
      "2번째 줄입니다.\n",
      "3번째 줄입니다.\n",
      "4번째 줄입니다.\n",
      "5번째 줄입니다.\n",
      "6번째 줄입니다.\n",
      "7번째 줄입니다.\n",
      "8번째 줄입니다.\n",
      "9번째 줄입니다.\n",
      "10번째 줄입니다.\n",
      "11번째 줄입니다~~~~~~\n",
      "12번째 줄입니다~~~~~~\n",
      "13번째 줄입니다~~~~~~\n",
      "14번째 줄입니다~~~~~~\n",
      "15번째 줄입니다~~~~~~\n",
      "16번째 줄입니다~~~~~~\n",
      "17번째 줄입니다~~~~~~\n",
      "18번째 줄입니다~~~~~~\n",
      "19번째 줄입니다~~~~~~\n",
      "20번째 줄입니다~~~~~~\n",
      "\n"
     ]
    }
   ],
   "source": [
    "print(temp)"
   ]
  },
  {
   "cell_type": "code",
   "execution_count": 6,
   "id": "d574c4ef",
   "metadata": {},
   "outputs": [],
   "source": [
    "# 파일에서 여러 줄을 리스트로 각각 읽기\n",
    "file = open('hello.txt', 'r')\n",
    "lines = file.readlines() # 파일에서 읽은 내용을 리스트형식으로 저장\n",
    "file.close()"
   ]
  },
  {
   "cell_type": "code",
   "execution_count": null,
   "id": "01bdfc80",
   "metadata": {},
   "outputs": [
    {
     "name": "stdout",
     "output_type": "stream",
     "text": [
      "['1번째 줄입니다.\\n', '2번째 줄입니다.\\n', '3번째 줄입니다.\\n', '4번째 줄입니다.\\n', '5번째 줄입니다.\\n', '6번째 줄입니다.\\n', '7번째 줄입니다.\\n', '8번째 줄입니다.\\n', '9번째 줄입니다.\\n', '10번째 줄입니다.\\n', '11번째 줄입니다~~~~~~\\n', '12번째 줄입니다~~~~~~\\n', '13번째 줄입니다~~~~~~\\n', '14번째 줄입니다~~~~~~\\n', '15번째 줄입니다~~~~~~\\n', '16번째 줄입니다~~~~~~\\n', '17번째 줄입니다~~~~~~\\n', '18번째 줄입니다~~~~~~\\n', '19번째 줄입니다~~~~~~\\n', '20번째 줄입니다~~~~~~\\n']\n"
     ]
    }
   ],
   "source": [
    "print(lines) # ['0', '1', '2', ... ] 형식으로 출력"
   ]
  },
  {
   "cell_type": "code",
   "execution_count": 8,
   "id": "3afa26a6",
   "metadata": {},
   "outputs": [
    {
     "name": "stdout",
     "output_type": "stream",
     "text": [
      "4번째 줄입니다.\n",
      "\n"
     ]
    }
   ],
   "source": [
    "print(lines[3])"
   ]
  },
  {
   "cell_type": "code",
   "execution_count": null,
   "id": "517dae01",
   "metadata": {},
   "outputs": [
    {
     "name": "stdout",
     "output_type": "stream",
     "text": [
      "1번째 줄입니다.\n",
      "2번째 줄입니다.\n",
      "3번째 줄입니다.\n",
      "4번째 줄입니다.\n",
      "5번째 줄입니다.\n",
      "6번째 줄입니다.\n",
      "7번째 줄입니다.\n",
      "8번째 줄입니다.\n",
      "9번째 줄입니다.\n",
      "10번째 줄입니다.\n",
      "11번째 줄입니다~~~~~~\n",
      "12번째 줄입니다~~~~~~\n",
      "13번째 줄입니다~~~~~~\n",
      "14번째 줄입니다~~~~~~\n",
      "15번째 줄입니다~~~~~~\n",
      "16번째 줄입니다~~~~~~\n",
      "17번째 줄입니다~~~~~~\n",
      "18번째 줄입니다~~~~~~\n",
      "19번째 줄입니다~~~~~~\n",
      "20번째 줄입니다~~~~~~\n"
     ]
    }
   ],
   "source": [
    "for i in lines:\n",
    "    print(i, end=\"\") \n",
    "\n",
    "# print(i) : 함수 자체에 enter + \\n -> 한줄 띄우고 출력됨\n",
    "# print(i, end='') : enter기능을 없애려면"
   ]
  },
  {
   "cell_type": "code",
   "execution_count": 11,
   "id": "8af12c44",
   "metadata": {},
   "outputs": [],
   "source": [
    "# with문으로 파일 입출력하기\n",
    "li = ['Hello~\\n', 'world!\\n', 'merong~~\\n', 'python!!\\n']\n",
    "\n",
    "with open('file.txt', 'w') as file: # 파일 열기(쓰기모드로)\n",
    "    file.writelines(li) # 리스트를 파일에 쓸 때 사용\n",
    "    file.write('zzzzzzzzz\\n')\n",
    "    file.write('ㅜㅡㅜㅠㅡㅜㅡㅠㅜ\\n')"
   ]
  },
  {
   "cell_type": "code",
   "execution_count": 12,
   "id": "2c995205",
   "metadata": {},
   "outputs": [],
   "source": [
    "with open('file.txt', 'r') as file: # 파일 열기(읽기모드로)\n",
    "    temp = file.read() # 파일의 내용을 모두 읽어 temp변수에 담기"
   ]
  },
  {
   "cell_type": "code",
   "execution_count": 13,
   "id": "ce2be935",
   "metadata": {},
   "outputs": [
    {
     "name": "stdout",
     "output_type": "stream",
     "text": [
      "Hello~\n",
      "world!\n",
      "merong~~\n",
      "python!!\n",
      "zzzzzzzzz\n",
      "ㅜㅡㅜㅠㅡㅜㅡㅠㅜ\n",
      "\n"
     ]
    }
   ],
   "source": [
    "print(temp)"
   ]
  },
  {
   "cell_type": "code",
   "execution_count": 14,
   "id": "6be57ede",
   "metadata": {},
   "outputs": [],
   "source": [
    "# time을 활용한 오늘의 스케줄 입력하기\n",
    "# 파일 이름 : '2025-05-15.txt' \n",
    "import time\n",
    "\n",
    "file = open(time.strftime('%Y-%m-%d') + '.txt', 'a') \n",
    "while True:\n",
    "    schedule = input('오늘의 스케줄을 입력하세요 : ')\n",
    "    if not schedule: # 스케줄이 없다면(아무것도 입력하지 않으면) 반복 종료하라\n",
    "        break\n",
    "    file.write(schedule + '\\n') # 스케줄 뒤에 enter 삽입\n",
    "file.close() # 파일 닫기"
   ]
  },
  {
   "cell_type": "code",
   "execution_count": null,
   "id": "4f180ed1",
   "metadata": {},
   "outputs": [
    {
     "name": "stdout",
     "output_type": "stream",
     "text": [
      "꿀은 전체 54번 나타납니다.\n"
     ]
    }
   ],
   "source": [
    "#'엄마돼지아기돼지.txt'파일에서 '꿀'의 개수는 과연 몇 개일까?\n",
    "file = open('엄마돼지아기돼지.txt', 'r') # 파일 열기(읽기모드로)\n",
    "line_list = file.readlines() # 전체 글을 리스트형식으로 저장\n",
    "\n",
    "count = 0    # 꿀의 개수를 담을 변수\n",
    "for line in line_list:  # line_list : 한 줄\n",
    "    for ch in line:     # ch : 한 글자\n",
    "        if ch == '꿀':\n",
    "            count += 1\n",
    "file.close() # 파일 닫기\n",
    "\n",
    "print(f'꿀은 전체 {count}번 나타납니다.')"
   ]
  },
  {
   "cell_type": "code",
   "execution_count": 16,
   "id": "30994286",
   "metadata": {},
   "outputs": [
    {
     "name": "stdout",
     "output_type": "stream",
     "text": [
      "code2.mp4 파일이 복사되었습니다.\n"
     ]
    }
   ],
   "source": [
    "# 'code.mp4' 동영상파일 복사본 만들기\n",
    "buffer_size = 1024 # 한 번에 읽어들이는 데이터의 크기(1024byte == lkb)\n",
    "with open('./code.mp4', 'rb') as source: # 원본(읽기모드로)\n",
    "    with open('./code2.mp4', 'wb') as copy: # 복사본(쓰기모드로)\n",
    "        while True:\n",
    "            buffer = source.read(buffer_size) # buffer_size만큼 읽어라 -> 1024 바로 입력하기보다 buffer_size변수로 두면 나중에 수정하기 용이\n",
    "            if not buffer:  # 더 이상 읽을 데이터가 없다면 종료\n",
    "                break\n",
    "            copy.write(buffer)  # buffer안에 있는 내용을 복사본으로 쓴다\n",
    "print('code2.mp4 파일이 복사되었습니다.') "
   ]
  },
  {
   "cell_type": "code",
   "execution_count": null,
   "id": "0ac4a9e6",
   "metadata": {},
   "outputs": [
    {
     "data": {
      "text/html": [
       "<div>\n",
       "<style scoped>\n",
       "    .dataframe tbody tr th:only-of-type {\n",
       "        vertical-align: middle;\n",
       "    }\n",
       "\n",
       "    .dataframe tbody tr th {\n",
       "        vertical-align: top;\n",
       "    }\n",
       "\n",
       "    .dataframe thead th {\n",
       "        text-align: right;\n",
       "    }\n",
       "</style>\n",
       "<table border=\"1\" class=\"dataframe\">\n",
       "  <thead>\n",
       "    <tr style=\"text-align: right;\">\n",
       "      <th></th>\n",
       "      <th>위도</th>\n",
       "      <th>경도</th>\n",
       "      <th>관리기관명</th>\n",
       "      <th>소재지도로명주소</th>\n",
       "      <th>소재지지번주소</th>\n",
       "      <th>설치목적구분</th>\n",
       "      <th>카메라대수</th>\n",
       "      <th>카메라화소수</th>\n",
       "      <th>촬영방면정보</th>\n",
       "      <th>보관일수</th>\n",
       "      <th>설치연도</th>\n",
       "      <th>관리기관전화번호</th>\n",
       "      <th>관리부서</th>\n",
       "      <th>기준일자</th>\n",
       "    </tr>\n",
       "  </thead>\n",
       "  <tbody>\n",
       "    <tr>\n",
       "      <th>0</th>\n",
       "      <td>35.857225</td>\n",
       "      <td>128.571289</td>\n",
       "      <td>대구광역시 달서구청</td>\n",
       "      <td>대구광역시 달서구 두류남길 60</td>\n",
       "      <td>대구광역시 달서구 두류동 804-141</td>\n",
       "      <td>생활안전</td>\n",
       "      <td>1</td>\n",
       "      <td>200</td>\n",
       "      <td>회전</td>\n",
       "      <td>30</td>\n",
       "      <td>2015</td>\n",
       "      <td>053-667-3900</td>\n",
       "      <td>스마트도시과</td>\n",
       "      <td>2023-12-31</td>\n",
       "    </tr>\n",
       "    <tr>\n",
       "      <th>1</th>\n",
       "      <td>35.839547</td>\n",
       "      <td>128.529792</td>\n",
       "      <td>대구광역시 달서구청</td>\n",
       "      <td>대구광역시 달서구 본리서3길 5</td>\n",
       "      <td>대구광역시 달서구 본리동 1210-1</td>\n",
       "      <td>생활안전</td>\n",
       "      <td>1</td>\n",
       "      <td>200</td>\n",
       "      <td>회전</td>\n",
       "      <td>30</td>\n",
       "      <td>2015</td>\n",
       "      <td>053-667-3900</td>\n",
       "      <td>스마트도시과</td>\n",
       "      <td>2023-12-31</td>\n",
       "    </tr>\n",
       "    <tr>\n",
       "      <th>2</th>\n",
       "      <td>35.851494</td>\n",
       "      <td>128.488028</td>\n",
       "      <td>대구광역시 달서구청</td>\n",
       "      <td>대구광역시 달서구 호산동로36북길 60</td>\n",
       "      <td>대구광역시 달서구 호산동 357-41</td>\n",
       "      <td>생활안전</td>\n",
       "      <td>1</td>\n",
       "      <td>200</td>\n",
       "      <td>회전</td>\n",
       "      <td>30</td>\n",
       "      <td>2023</td>\n",
       "      <td>053-667-3900</td>\n",
       "      <td>스마트도시과</td>\n",
       "      <td>2023-12-31</td>\n",
       "    </tr>\n",
       "    <tr>\n",
       "      <th>3</th>\n",
       "      <td>35.824289</td>\n",
       "      <td>128.549203</td>\n",
       "      <td>대구광역시 달서구청</td>\n",
       "      <td>대구광역시 달서구 월배로68길 48</td>\n",
       "      <td>대구광역시 달서구 송현1동 798-321</td>\n",
       "      <td>생활안전</td>\n",
       "      <td>1</td>\n",
       "      <td>200</td>\n",
       "      <td>회전</td>\n",
       "      <td>30</td>\n",
       "      <td>2020</td>\n",
       "      <td>053-667-3900</td>\n",
       "      <td>스마트도시과</td>\n",
       "      <td>2023-12-31</td>\n",
       "    </tr>\n",
       "    <tr>\n",
       "      <th>4</th>\n",
       "      <td>35.813222</td>\n",
       "      <td>128.525281</td>\n",
       "      <td>대구광역시 달서구청</td>\n",
       "      <td>대구광역시 달서구 진천로 46</td>\n",
       "      <td>대구광역시 달서구 진천동 503</td>\n",
       "      <td>어린이보호</td>\n",
       "      <td>1</td>\n",
       "      <td>200</td>\n",
       "      <td>고정</td>\n",
       "      <td>30</td>\n",
       "      <td>2020</td>\n",
       "      <td>053-667-3900</td>\n",
       "      <td>스마트도시과</td>\n",
       "      <td>2023-12-31</td>\n",
       "    </tr>\n",
       "    <tr>\n",
       "      <th>...</th>\n",
       "      <td>...</td>\n",
       "      <td>...</td>\n",
       "      <td>...</td>\n",
       "      <td>...</td>\n",
       "      <td>...</td>\n",
       "      <td>...</td>\n",
       "      <td>...</td>\n",
       "      <td>...</td>\n",
       "      <td>...</td>\n",
       "      <td>...</td>\n",
       "      <td>...</td>\n",
       "      <td>...</td>\n",
       "      <td>...</td>\n",
       "      <td>...</td>\n",
       "    </tr>\n",
       "    <tr>\n",
       "      <th>2578</th>\n",
       "      <td>35.841988</td>\n",
       "      <td>128.555909</td>\n",
       "      <td>대구광역시 달서구청</td>\n",
       "      <td>대구광역시 달서구 장기로 35</td>\n",
       "      <td>대구광역시 달서구 성당동 461-5</td>\n",
       "      <td>생활안전</td>\n",
       "      <td>1</td>\n",
       "      <td>200</td>\n",
       "      <td>고정</td>\n",
       "      <td>30</td>\n",
       "      <td>2023</td>\n",
       "      <td>053-667-3900</td>\n",
       "      <td>스마트도시과</td>\n",
       "      <td>2023-12-31</td>\n",
       "    </tr>\n",
       "    <tr>\n",
       "      <th>2579</th>\n",
       "      <td>35.854707</td>\n",
       "      <td>128.511222</td>\n",
       "      <td>대구광역시 달서구청</td>\n",
       "      <td>대구광역시 달서구 이곡동로 66</td>\n",
       "      <td>대구광역시 달서구 이곡동 1248-9</td>\n",
       "      <td>생활안전</td>\n",
       "      <td>1</td>\n",
       "      <td>200</td>\n",
       "      <td>고정</td>\n",
       "      <td>30</td>\n",
       "      <td>2023</td>\n",
       "      <td>053-667-3900</td>\n",
       "      <td>스마트도시과</td>\n",
       "      <td>2023-12-31</td>\n",
       "    </tr>\n",
       "    <tr>\n",
       "      <th>2580</th>\n",
       "      <td>35.854707</td>\n",
       "      <td>128.511222</td>\n",
       "      <td>대구광역시 달서구청</td>\n",
       "      <td>대구광역시 달서구 이곡동로 66</td>\n",
       "      <td>대구광역시 달서구 이곡동 1248-9</td>\n",
       "      <td>생활안전</td>\n",
       "      <td>1</td>\n",
       "      <td>200</td>\n",
       "      <td>고정</td>\n",
       "      <td>30</td>\n",
       "      <td>2023</td>\n",
       "      <td>053-667-3900</td>\n",
       "      <td>스마트도시과</td>\n",
       "      <td>2023-12-31</td>\n",
       "    </tr>\n",
       "    <tr>\n",
       "      <th>2581</th>\n",
       "      <td>35.854707</td>\n",
       "      <td>128.511222</td>\n",
       "      <td>대구광역시 달서구청</td>\n",
       "      <td>대구광역시 달서구 이곡동로 66</td>\n",
       "      <td>대구광역시 달서구 이곡동 1248-9</td>\n",
       "      <td>생활안전</td>\n",
       "      <td>1</td>\n",
       "      <td>200</td>\n",
       "      <td>고정</td>\n",
       "      <td>30</td>\n",
       "      <td>2023</td>\n",
       "      <td>053-667-3900</td>\n",
       "      <td>스마트도시과</td>\n",
       "      <td>2023-12-31</td>\n",
       "    </tr>\n",
       "    <tr>\n",
       "      <th>2582</th>\n",
       "      <td>35.854707</td>\n",
       "      <td>128.511222</td>\n",
       "      <td>대구광역시 달서구청</td>\n",
       "      <td>대구광역시 달서구 이곡동로 66</td>\n",
       "      <td>대구광역시 달서구 이곡동 1248-9</td>\n",
       "      <td>생활안전</td>\n",
       "      <td>1</td>\n",
       "      <td>200</td>\n",
       "      <td>고정</td>\n",
       "      <td>30</td>\n",
       "      <td>2023</td>\n",
       "      <td>053-667-3900</td>\n",
       "      <td>스마트도시과</td>\n",
       "      <td>2023-12-31</td>\n",
       "    </tr>\n",
       "  </tbody>\n",
       "</table>\n",
       "<p>2583 rows × 14 columns</p>\n",
       "</div>"
      ],
      "text/plain": [
       "             위도          경도       관리기관명               소재지도로명주소  \\\n",
       "0     35.857225  128.571289  대구광역시 달서구청      대구광역시 달서구 두류남길 60   \n",
       "1     35.839547  128.529792  대구광역시 달서구청      대구광역시 달서구 본리서3길 5   \n",
       "2     35.851494  128.488028  대구광역시 달서구청  대구광역시 달서구 호산동로36북길 60   \n",
       "3     35.824289  128.549203  대구광역시 달서구청    대구광역시 달서구 월배로68길 48   \n",
       "4     35.813222  128.525281  대구광역시 달서구청      대구광역시 달서구 진천로 46    \n",
       "...         ...         ...         ...                    ...   \n",
       "2578  35.841988  128.555909  대구광역시 달서구청       대구광역시 달서구 장기로 35   \n",
       "2579  35.854707  128.511222  대구광역시 달서구청      대구광역시 달서구 이곡동로 66   \n",
       "2580  35.854707  128.511222  대구광역시 달서구청      대구광역시 달서구 이곡동로 66   \n",
       "2581  35.854707  128.511222  대구광역시 달서구청      대구광역시 달서구 이곡동로 66   \n",
       "2582  35.854707  128.511222  대구광역시 달서구청      대구광역시 달서구 이곡동로 66   \n",
       "\n",
       "                     소재지지번주소 설치목적구분  카메라대수  카메라화소수 촬영방면정보  보관일수  설치연도  \\\n",
       "0      대구광역시 달서구 두류동 804-141   생활안전      1     200     회전    30  2015   \n",
       "1       대구광역시 달서구 본리동 1210-1   생활안전      1     200     회전    30  2015   \n",
       "2       대구광역시 달서구 호산동 357-41   생활안전      1     200     회전    30  2023   \n",
       "3     대구광역시 달서구 송현1동 798-321   생활안전      1     200     회전    30  2020   \n",
       "4          대구광역시 달서구 진천동 503  어린이보호      1     200     고정    30  2020   \n",
       "...                      ...    ...    ...     ...    ...   ...   ...   \n",
       "2578     대구광역시 달서구 성당동 461-5   생활안전      1     200     고정    30  2023   \n",
       "2579    대구광역시 달서구 이곡동 1248-9   생활안전      1     200     고정    30  2023   \n",
       "2580    대구광역시 달서구 이곡동 1248-9   생활안전      1     200     고정    30  2023   \n",
       "2581    대구광역시 달서구 이곡동 1248-9   생활안전      1     200     고정    30  2023   \n",
       "2582    대구광역시 달서구 이곡동 1248-9   생활안전      1     200     고정    30  2023   \n",
       "\n",
       "          관리기관전화번호    관리부서        기준일자  \n",
       "0     053-667-3900  스마트도시과  2023-12-31  \n",
       "1     053-667-3900  스마트도시과  2023-12-31  \n",
       "2     053-667-3900  스마트도시과  2023-12-31  \n",
       "3     053-667-3900  스마트도시과  2023-12-31  \n",
       "4     053-667-3900  스마트도시과  2023-12-31  \n",
       "...            ...     ...         ...  \n",
       "2578  053-667-3900  스마트도시과  2023-12-31  \n",
       "2579  053-667-3900  스마트도시과  2023-12-31  \n",
       "2580  053-667-3900  스마트도시과  2023-12-31  \n",
       "2581  053-667-3900  스마트도시과  2023-12-31  \n",
       "2582  053-667-3900  스마트도시과  2023-12-31  \n",
       "\n",
       "[2583 rows x 14 columns]"
      ]
     },
     "execution_count": 17,
     "metadata": {},
     "output_type": "execute_result"
    }
   ],
   "source": [
    "# 공공데이터 포털에서 대구광역시 달서구 cctv.csv 파일 받아서 cctv개수 알아보기\n",
    "# -> csv를 pandas로 읽기\n",
    "import pandas as pd\n",
    "\n",
    "# 데이터프레임을 생성\n",
    "cctv = pd.read_csv('./cctv.csv')\n",
    "cctv # cctv.csv 파일을 메모장에서 인코딩 utf-8로 바꿔서 저장"
   ]
  },
  {
   "cell_type": "code",
   "execution_count": null,
   "id": "44e77013",
   "metadata": {},
   "outputs": [
    {
     "name": "stdout",
     "output_type": "stream",
     "text": [
      "대구광역시 달서구에 설치된 cctv는 총 2583대 입니다.\n"
     ]
    }
   ],
   "source": [
    "count = cctv.iloc[:, 6] # 행 전체, 열은 6번 인덱스(카메라대수)\n",
    "# print(count) # series로 출력됨을 확인\n",
    "print(count.sum()) # pandas의 sum()으로 바로 합계 구하기가능\n",
    "\n",
    "totalcctv = 0 # cctv의 총개수를 저장하는 변수\n",
    "for i in count:\n",
    "    # print(type(i)) # int임을 확인 -> 형변환 할 필요 X\n",
    "    totalcctv += i\n",
    "print(f'대구광역시 달서구에 설치된 cctv는 총 {totalcctv}대 입니다.')"
   ]
  },
  {
   "cell_type": "code",
   "execution_count": null,
   "id": "b6463069",
   "metadata": {},
   "outputs": [],
   "source": [
    "# 동에 따른 카메라대수 구해보기"
   ]
  },
  {
   "cell_type": "code",
   "execution_count": null,
   "id": "538d2f8e",
   "metadata": {},
   "outputs": [],
   "source": []
  }
 ],
 "metadata": {
  "kernelspec": {
   "display_name": "m02",
   "language": "python",
   "name": "python3"
  },
  "language_info": {
   "codemirror_mode": {
    "name": "ipython",
    "version": 3
   },
   "file_extension": ".py",
   "mimetype": "text/x-python",
   "name": "python",
   "nbconvert_exporter": "python",
   "pygments_lexer": "ipython3",
   "version": "3.12.10"
  }
 },
 "nbformat": 4,
 "nbformat_minor": 5
}
