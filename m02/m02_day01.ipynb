{
  "cells": [
    {
      "cell_type": "code",
      "execution_count": 2,
      "metadata": {
        "id": "-jbnSpqFjzfv"
      },
      "outputs": [],
      "source": [
        "import pandas as pd\n",
        "import numpy as np"
      ]
    },
    {
      "cell_type": "code",
      "execution_count": 38,
      "metadata": {
        "id": "MXmKEicfkhwu"
      },
      "outputs": [],
      "source": [
        "mpg = pd.read_csv('mpg.csv')"
      ]
    },
    {
      "cell_type": "code",
      "execution_count": 39,
      "metadata": {
        "colab": {
          "base_uri": "https://localhost:8080/",
          "height": 206
        },
        "id": "9Bwg6LukkyB6",
        "outputId": "90379470-77ee-455d-dfac-b714c29d12f8"
      },
      "outputs": [
        {
          "data": {
            "text/html": [
              "<div>\n",
              "<style scoped>\n",
              "    .dataframe tbody tr th:only-of-type {\n",
              "        vertical-align: middle;\n",
              "    }\n",
              "\n",
              "    .dataframe tbody tr th {\n",
              "        vertical-align: top;\n",
              "    }\n",
              "\n",
              "    .dataframe thead th {\n",
              "        text-align: right;\n",
              "    }\n",
              "</style>\n",
              "<table border=\"1\" class=\"dataframe\">\n",
              "  <thead>\n",
              "    <tr style=\"text-align: right;\">\n",
              "      <th></th>\n",
              "      <th>manufacturer</th>\n",
              "      <th>model</th>\n",
              "      <th>displ</th>\n",
              "      <th>year</th>\n",
              "      <th>cyl</th>\n",
              "      <th>trans</th>\n",
              "      <th>drv</th>\n",
              "      <th>cty</th>\n",
              "      <th>hwy</th>\n",
              "      <th>fl</th>\n",
              "      <th>category</th>\n",
              "    </tr>\n",
              "  </thead>\n",
              "  <tbody>\n",
              "    <tr>\n",
              "      <th>0</th>\n",
              "      <td>audi</td>\n",
              "      <td>a4</td>\n",
              "      <td>1.8</td>\n",
              "      <td>1999</td>\n",
              "      <td>4</td>\n",
              "      <td>auto(l5)</td>\n",
              "      <td>f</td>\n",
              "      <td>18</td>\n",
              "      <td>29</td>\n",
              "      <td>p</td>\n",
              "      <td>compact</td>\n",
              "    </tr>\n",
              "    <tr>\n",
              "      <th>1</th>\n",
              "      <td>audi</td>\n",
              "      <td>a4</td>\n",
              "      <td>1.8</td>\n",
              "      <td>1999</td>\n",
              "      <td>4</td>\n",
              "      <td>manual(m5)</td>\n",
              "      <td>f</td>\n",
              "      <td>21</td>\n",
              "      <td>29</td>\n",
              "      <td>p</td>\n",
              "      <td>compact</td>\n",
              "    </tr>\n",
              "    <tr>\n",
              "      <th>2</th>\n",
              "      <td>audi</td>\n",
              "      <td>a4</td>\n",
              "      <td>2.0</td>\n",
              "      <td>2008</td>\n",
              "      <td>4</td>\n",
              "      <td>manual(m6)</td>\n",
              "      <td>f</td>\n",
              "      <td>20</td>\n",
              "      <td>31</td>\n",
              "      <td>p</td>\n",
              "      <td>compact</td>\n",
              "    </tr>\n",
              "    <tr>\n",
              "      <th>3</th>\n",
              "      <td>audi</td>\n",
              "      <td>a4</td>\n",
              "      <td>2.0</td>\n",
              "      <td>2008</td>\n",
              "      <td>4</td>\n",
              "      <td>auto(av)</td>\n",
              "      <td>f</td>\n",
              "      <td>21</td>\n",
              "      <td>30</td>\n",
              "      <td>p</td>\n",
              "      <td>compact</td>\n",
              "    </tr>\n",
              "    <tr>\n",
              "      <th>4</th>\n",
              "      <td>audi</td>\n",
              "      <td>a4</td>\n",
              "      <td>2.8</td>\n",
              "      <td>1999</td>\n",
              "      <td>6</td>\n",
              "      <td>auto(l5)</td>\n",
              "      <td>f</td>\n",
              "      <td>16</td>\n",
              "      <td>26</td>\n",
              "      <td>p</td>\n",
              "      <td>compact</td>\n",
              "    </tr>\n",
              "  </tbody>\n",
              "</table>\n",
              "</div>"
            ],
            "text/plain": [
              "  manufacturer model  displ  year  cyl       trans drv  cty  hwy fl category\n",
              "0         audi    a4    1.8  1999    4    auto(l5)   f   18   29  p  compact\n",
              "1         audi    a4    1.8  1999    4  manual(m5)   f   21   29  p  compact\n",
              "2         audi    a4    2.0  2008    4  manual(m6)   f   20   31  p  compact\n",
              "3         audi    a4    2.0  2008    4    auto(av)   f   21   30  p  compact\n",
              "4         audi    a4    2.8  1999    6    auto(l5)   f   16   26  p  compact"
            ]
          },
          "execution_count": 39,
          "metadata": {},
          "output_type": "execute_result"
        }
      ],
      "source": [
        "mpg.head()"
      ]
    },
    {
      "cell_type": "code",
      "execution_count": 40,
      "metadata": {
        "colab": {
          "base_uri": "https://localhost:8080/",
          "height": 206
        },
        "id": "Dvbfj9yukzw8",
        "outputId": "836e971f-a801-41d4-e4ca-5a00789c9c2c"
      },
      "outputs": [
        {
          "data": {
            "text/html": [
              "<div>\n",
              "<style scoped>\n",
              "    .dataframe tbody tr th:only-of-type {\n",
              "        vertical-align: middle;\n",
              "    }\n",
              "\n",
              "    .dataframe tbody tr th {\n",
              "        vertical-align: top;\n",
              "    }\n",
              "\n",
              "    .dataframe thead th {\n",
              "        text-align: right;\n",
              "    }\n",
              "</style>\n",
              "<table border=\"1\" class=\"dataframe\">\n",
              "  <thead>\n",
              "    <tr style=\"text-align: right;\">\n",
              "      <th></th>\n",
              "      <th>category</th>\n",
              "      <th>cty</th>\n",
              "    </tr>\n",
              "  </thead>\n",
              "  <tbody>\n",
              "    <tr>\n",
              "      <th>0</th>\n",
              "      <td>compact</td>\n",
              "      <td>18</td>\n",
              "    </tr>\n",
              "    <tr>\n",
              "      <th>1</th>\n",
              "      <td>compact</td>\n",
              "      <td>21</td>\n",
              "    </tr>\n",
              "    <tr>\n",
              "      <th>2</th>\n",
              "      <td>compact</td>\n",
              "      <td>20</td>\n",
              "    </tr>\n",
              "    <tr>\n",
              "      <th>3</th>\n",
              "      <td>compact</td>\n",
              "      <td>21</td>\n",
              "    </tr>\n",
              "    <tr>\n",
              "      <th>4</th>\n",
              "      <td>compact</td>\n",
              "      <td>16</td>\n",
              "    </tr>\n",
              "  </tbody>\n",
              "</table>\n",
              "</div>"
            ],
            "text/plain": [
              "  category  cty\n",
              "0  compact   18\n",
              "1  compact   21\n",
              "2  compact   20\n",
              "3  compact   21\n",
              "4  compact   16"
            ]
          },
          "execution_count": 40,
          "metadata": {},
          "output_type": "execute_result"
        }
      ],
      "source": [
        "mpg_new = mpg[['category', 'cty']]\n",
        "mpg_new.head()"
      ]
    },
    {
      "cell_type": "code",
      "execution_count": 41,
      "metadata": {
        "colab": {
          "base_uri": "https://localhost:8080/"
        },
        "id": "KADfiHsRlGTV",
        "outputId": "fb4a5e0b-4114-413b-92bf-87859c4aaea4"
      },
      "outputs": [
        {
          "data": {
            "text/plain": [
              "np.float64(13.5)"
            ]
          },
          "execution_count": 41,
          "metadata": {},
          "output_type": "execute_result"
        }
      ],
      "source": [
        "# suv의 cty 평균\n",
        "mpg_new.query('category == \"suv\"')['cty'].mean()"
      ]
    },
    {
      "cell_type": "code",
      "execution_count": 42,
      "metadata": {
        "colab": {
          "base_uri": "https://localhost:8080/"
        },
        "id": "KUjBMAZelgN-",
        "outputId": "4195e973-41f3-4849-9656-c2489a236217"
      },
      "outputs": [
        {
          "data": {
            "text/plain": [
              "np.float64(20.127659574468087)"
            ]
          },
          "execution_count": 42,
          "metadata": {},
          "output_type": "execute_result"
        }
      ],
      "source": [
        "# compact의 cty 평균\n",
        "mpg_new.query('category == \"compact\"')['cty'].mean()"
      ]
    },
    {
      "cell_type": "code",
      "execution_count": 43,
      "metadata": {
        "colab": {
          "base_uri": "https://localhost:8080/",
          "height": 206
        },
        "id": "sfjd00KlmET5",
        "outputId": "a2378dcf-e336-4214-faea-83e0e2443013"
      },
      "outputs": [
        {
          "data": {
            "text/html": [
              "<div>\n",
              "<style scoped>\n",
              "    .dataframe tbody tr th:only-of-type {\n",
              "        vertical-align: middle;\n",
              "    }\n",
              "\n",
              "    .dataframe tbody tr th {\n",
              "        vertical-align: top;\n",
              "    }\n",
              "\n",
              "    .dataframe thead th {\n",
              "        text-align: right;\n",
              "    }\n",
              "</style>\n",
              "<table border=\"1\" class=\"dataframe\">\n",
              "  <thead>\n",
              "    <tr style=\"text-align: right;\">\n",
              "      <th></th>\n",
              "      <th>manufacturer</th>\n",
              "      <th>model</th>\n",
              "      <th>displ</th>\n",
              "      <th>year</th>\n",
              "      <th>cyl</th>\n",
              "      <th>trans</th>\n",
              "      <th>drv</th>\n",
              "      <th>cty</th>\n",
              "      <th>hwy</th>\n",
              "      <th>fl</th>\n",
              "      <th>category</th>\n",
              "    </tr>\n",
              "  </thead>\n",
              "  <tbody>\n",
              "    <tr>\n",
              "      <th>2</th>\n",
              "      <td>audi</td>\n",
              "      <td>a4</td>\n",
              "      <td>2.0</td>\n",
              "      <td>2008</td>\n",
              "      <td>4</td>\n",
              "      <td>manual(m6)</td>\n",
              "      <td>f</td>\n",
              "      <td>20</td>\n",
              "      <td>31</td>\n",
              "      <td>p</td>\n",
              "      <td>compact</td>\n",
              "    </tr>\n",
              "    <tr>\n",
              "      <th>3</th>\n",
              "      <td>audi</td>\n",
              "      <td>a4</td>\n",
              "      <td>2.0</td>\n",
              "      <td>2008</td>\n",
              "      <td>4</td>\n",
              "      <td>auto(av)</td>\n",
              "      <td>f</td>\n",
              "      <td>21</td>\n",
              "      <td>30</td>\n",
              "      <td>p</td>\n",
              "      <td>compact</td>\n",
              "    </tr>\n",
              "    <tr>\n",
              "      <th>1</th>\n",
              "      <td>audi</td>\n",
              "      <td>a4</td>\n",
              "      <td>1.8</td>\n",
              "      <td>1999</td>\n",
              "      <td>4</td>\n",
              "      <td>manual(m5)</td>\n",
              "      <td>f</td>\n",
              "      <td>21</td>\n",
              "      <td>29</td>\n",
              "      <td>p</td>\n",
              "      <td>compact</td>\n",
              "    </tr>\n",
              "    <tr>\n",
              "      <th>0</th>\n",
              "      <td>audi</td>\n",
              "      <td>a4</td>\n",
              "      <td>1.8</td>\n",
              "      <td>1999</td>\n",
              "      <td>4</td>\n",
              "      <td>auto(l5)</td>\n",
              "      <td>f</td>\n",
              "      <td>18</td>\n",
              "      <td>29</td>\n",
              "      <td>p</td>\n",
              "      <td>compact</td>\n",
              "    </tr>\n",
              "    <tr>\n",
              "      <th>9</th>\n",
              "      <td>audi</td>\n",
              "      <td>a4 quattro</td>\n",
              "      <td>2.0</td>\n",
              "      <td>2008</td>\n",
              "      <td>4</td>\n",
              "      <td>manual(m6)</td>\n",
              "      <td>4</td>\n",
              "      <td>20</td>\n",
              "      <td>28</td>\n",
              "      <td>p</td>\n",
              "      <td>compact</td>\n",
              "    </tr>\n",
              "  </tbody>\n",
              "</table>\n",
              "</div>"
            ],
            "text/plain": [
              "  manufacturer       model  displ  year  cyl       trans drv  cty  hwy fl  \\\n",
              "2         audi          a4    2.0  2008    4  manual(m6)   f   20   31  p   \n",
              "3         audi          a4    2.0  2008    4    auto(av)   f   21   30  p   \n",
              "1         audi          a4    1.8  1999    4  manual(m5)   f   21   29  p   \n",
              "0         audi          a4    1.8  1999    4    auto(l5)   f   18   29  p   \n",
              "9         audi  a4 quattro    2.0  2008    4  manual(m6)   4   20   28  p   \n",
              "\n",
              "  category  \n",
              "2  compact  \n",
              "3  compact  \n",
              "1  compact  \n",
              "0  compact  \n",
              "9  compact  "
            ]
          },
          "execution_count": 43,
          "metadata": {},
          "output_type": "execute_result"
        }
      ],
      "source": [
        "mpg.query('manufacturer == \"audi\"').sort_values('hwy', ascending=False).head()"
      ]
    },
    {
      "cell_type": "code",
      "execution_count": 44,
      "metadata": {
        "colab": {
          "base_uri": "https://localhost:8080/",
          "height": 206
        },
        "id": "nuAB_RzDmzDf",
        "outputId": "b85c5875-f3db-475c-f5e7-0ab05ccb1d50"
      },
      "outputs": [
        {
          "data": {
            "text/html": [
              "<div>\n",
              "<style scoped>\n",
              "    .dataframe tbody tr th:only-of-type {\n",
              "        vertical-align: middle;\n",
              "    }\n",
              "\n",
              "    .dataframe tbody tr th {\n",
              "        vertical-align: top;\n",
              "    }\n",
              "\n",
              "    .dataframe thead th {\n",
              "        text-align: right;\n",
              "    }\n",
              "</style>\n",
              "<table border=\"1\" class=\"dataframe\">\n",
              "  <thead>\n",
              "    <tr style=\"text-align: right;\">\n",
              "      <th></th>\n",
              "      <th>manufacturer</th>\n",
              "      <th>model</th>\n",
              "      <th>displ</th>\n",
              "      <th>year</th>\n",
              "      <th>cyl</th>\n",
              "      <th>trans</th>\n",
              "      <th>drv</th>\n",
              "      <th>cty</th>\n",
              "      <th>hwy</th>\n",
              "      <th>fl</th>\n",
              "      <th>category</th>\n",
              "    </tr>\n",
              "  </thead>\n",
              "  <tbody>\n",
              "    <tr>\n",
              "      <th>2</th>\n",
              "      <td>audi</td>\n",
              "      <td>a4</td>\n",
              "      <td>2.0</td>\n",
              "      <td>2008</td>\n",
              "      <td>4</td>\n",
              "      <td>manual(m6)</td>\n",
              "      <td>f</td>\n",
              "      <td>20</td>\n",
              "      <td>31</td>\n",
              "      <td>p</td>\n",
              "      <td>compact</td>\n",
              "    </tr>\n",
              "    <tr>\n",
              "      <th>3</th>\n",
              "      <td>audi</td>\n",
              "      <td>a4</td>\n",
              "      <td>2.0</td>\n",
              "      <td>2008</td>\n",
              "      <td>4</td>\n",
              "      <td>auto(av)</td>\n",
              "      <td>f</td>\n",
              "      <td>21</td>\n",
              "      <td>30</td>\n",
              "      <td>p</td>\n",
              "      <td>compact</td>\n",
              "    </tr>\n",
              "    <tr>\n",
              "      <th>1</th>\n",
              "      <td>audi</td>\n",
              "      <td>a4</td>\n",
              "      <td>1.8</td>\n",
              "      <td>1999</td>\n",
              "      <td>4</td>\n",
              "      <td>manual(m5)</td>\n",
              "      <td>f</td>\n",
              "      <td>21</td>\n",
              "      <td>29</td>\n",
              "      <td>p</td>\n",
              "      <td>compact</td>\n",
              "    </tr>\n",
              "    <tr>\n",
              "      <th>0</th>\n",
              "      <td>audi</td>\n",
              "      <td>a4</td>\n",
              "      <td>1.8</td>\n",
              "      <td>1999</td>\n",
              "      <td>4</td>\n",
              "      <td>auto(l5)</td>\n",
              "      <td>f</td>\n",
              "      <td>18</td>\n",
              "      <td>29</td>\n",
              "      <td>p</td>\n",
              "      <td>compact</td>\n",
              "    </tr>\n",
              "    <tr>\n",
              "      <th>9</th>\n",
              "      <td>audi</td>\n",
              "      <td>a4 quattro</td>\n",
              "      <td>2.0</td>\n",
              "      <td>2008</td>\n",
              "      <td>4</td>\n",
              "      <td>manual(m6)</td>\n",
              "      <td>4</td>\n",
              "      <td>20</td>\n",
              "      <td>28</td>\n",
              "      <td>p</td>\n",
              "      <td>compact</td>\n",
              "    </tr>\n",
              "  </tbody>\n",
              "</table>\n",
              "</div>"
            ],
            "text/plain": [
              "  manufacturer       model  displ  year  cyl       trans drv  cty  hwy fl  \\\n",
              "2         audi          a4    2.0  2008    4  manual(m6)   f   20   31  p   \n",
              "3         audi          a4    2.0  2008    4    auto(av)   f   21   30  p   \n",
              "1         audi          a4    1.8  1999    4  manual(m5)   f   21   29  p   \n",
              "0         audi          a4    1.8  1999    4    auto(l5)   f   18   29  p   \n",
              "9         audi  a4 quattro    2.0  2008    4  manual(m6)   4   20   28  p   \n",
              "\n",
              "  category  \n",
              "2  compact  \n",
              "3  compact  \n",
              "1  compact  \n",
              "0  compact  \n",
              "9  compact  "
            ]
          },
          "execution_count": 44,
          "metadata": {},
          "output_type": "execute_result"
        }
      ],
      "source": [
        "mpg.query('manufacturer == \"audi\"') \\\n",
        "    .sort_values('hwy', ascending=False) \\\n",
        "    .head()"
      ]
    },
    {
      "cell_type": "code",
      "execution_count": 45,
      "metadata": {
        "id": "Cyn98Jh3nW0Z"
      },
      "outputs": [],
      "source": [
        "# 복사본\n",
        "mpg_new = mpg.copy()"
      ]
    },
    {
      "cell_type": "code",
      "execution_count": 46,
      "metadata": {
        "id": "O_0KpW1tn1qh"
      },
      "outputs": [],
      "source": [
        "# 합산 연비 컬럼(변수) -> total\n",
        "mpg_new = mpg_new.assign(total = mpg_new['cty'] + mpg_new['hwy'])"
      ]
    },
    {
      "cell_type": "code",
      "execution_count": 47,
      "metadata": {
        "colab": {
          "base_uri": "https://localhost:8080/",
          "height": 206
        },
        "id": "oqXjK4PHofQi",
        "outputId": "9c2c4719-99ad-4100-8f49-6d66678b2d68"
      },
      "outputs": [
        {
          "data": {
            "text/html": [
              "<div>\n",
              "<style scoped>\n",
              "    .dataframe tbody tr th:only-of-type {\n",
              "        vertical-align: middle;\n",
              "    }\n",
              "\n",
              "    .dataframe tbody tr th {\n",
              "        vertical-align: top;\n",
              "    }\n",
              "\n",
              "    .dataframe thead th {\n",
              "        text-align: right;\n",
              "    }\n",
              "</style>\n",
              "<table border=\"1\" class=\"dataframe\">\n",
              "  <thead>\n",
              "    <tr style=\"text-align: right;\">\n",
              "      <th></th>\n",
              "      <th>manufacturer</th>\n",
              "      <th>model</th>\n",
              "      <th>displ</th>\n",
              "      <th>year</th>\n",
              "      <th>cyl</th>\n",
              "      <th>trans</th>\n",
              "      <th>drv</th>\n",
              "      <th>cty</th>\n",
              "      <th>hwy</th>\n",
              "      <th>fl</th>\n",
              "      <th>category</th>\n",
              "      <th>total</th>\n",
              "    </tr>\n",
              "  </thead>\n",
              "  <tbody>\n",
              "    <tr>\n",
              "      <th>0</th>\n",
              "      <td>audi</td>\n",
              "      <td>a4</td>\n",
              "      <td>1.8</td>\n",
              "      <td>1999</td>\n",
              "      <td>4</td>\n",
              "      <td>auto(l5)</td>\n",
              "      <td>f</td>\n",
              "      <td>18</td>\n",
              "      <td>29</td>\n",
              "      <td>p</td>\n",
              "      <td>compact</td>\n",
              "      <td>47</td>\n",
              "    </tr>\n",
              "    <tr>\n",
              "      <th>1</th>\n",
              "      <td>audi</td>\n",
              "      <td>a4</td>\n",
              "      <td>1.8</td>\n",
              "      <td>1999</td>\n",
              "      <td>4</td>\n",
              "      <td>manual(m5)</td>\n",
              "      <td>f</td>\n",
              "      <td>21</td>\n",
              "      <td>29</td>\n",
              "      <td>p</td>\n",
              "      <td>compact</td>\n",
              "      <td>50</td>\n",
              "    </tr>\n",
              "    <tr>\n",
              "      <th>2</th>\n",
              "      <td>audi</td>\n",
              "      <td>a4</td>\n",
              "      <td>2.0</td>\n",
              "      <td>2008</td>\n",
              "      <td>4</td>\n",
              "      <td>manual(m6)</td>\n",
              "      <td>f</td>\n",
              "      <td>20</td>\n",
              "      <td>31</td>\n",
              "      <td>p</td>\n",
              "      <td>compact</td>\n",
              "      <td>51</td>\n",
              "    </tr>\n",
              "    <tr>\n",
              "      <th>3</th>\n",
              "      <td>audi</td>\n",
              "      <td>a4</td>\n",
              "      <td>2.0</td>\n",
              "      <td>2008</td>\n",
              "      <td>4</td>\n",
              "      <td>auto(av)</td>\n",
              "      <td>f</td>\n",
              "      <td>21</td>\n",
              "      <td>30</td>\n",
              "      <td>p</td>\n",
              "      <td>compact</td>\n",
              "      <td>51</td>\n",
              "    </tr>\n",
              "    <tr>\n",
              "      <th>4</th>\n",
              "      <td>audi</td>\n",
              "      <td>a4</td>\n",
              "      <td>2.8</td>\n",
              "      <td>1999</td>\n",
              "      <td>6</td>\n",
              "      <td>auto(l5)</td>\n",
              "      <td>f</td>\n",
              "      <td>16</td>\n",
              "      <td>26</td>\n",
              "      <td>p</td>\n",
              "      <td>compact</td>\n",
              "      <td>42</td>\n",
              "    </tr>\n",
              "  </tbody>\n",
              "</table>\n",
              "</div>"
            ],
            "text/plain": [
              "  manufacturer model  displ  year  cyl       trans drv  cty  hwy fl category  \\\n",
              "0         audi    a4    1.8  1999    4    auto(l5)   f   18   29  p  compact   \n",
              "1         audi    a4    1.8  1999    4  manual(m5)   f   21   29  p  compact   \n",
              "2         audi    a4    2.0  2008    4  manual(m6)   f   20   31  p  compact   \n",
              "3         audi    a4    2.0  2008    4    auto(av)   f   21   30  p  compact   \n",
              "4         audi    a4    2.8  1999    6    auto(l5)   f   16   26  p  compact   \n",
              "\n",
              "   total  \n",
              "0     47  \n",
              "1     50  \n",
              "2     51  \n",
              "3     51  \n",
              "4     42  "
            ]
          },
          "execution_count": 47,
          "metadata": {},
          "output_type": "execute_result"
        }
      ],
      "source": [
        "mpg_new.head()"
      ]
    },
    {
      "cell_type": "code",
      "execution_count": 48,
      "metadata": {
        "id": "O7jFCN_kohIJ"
      },
      "outputs": [],
      "source": [
        "# 평균 연비 컬럼(변수) -> mean\n",
        "mpg_new = mpg_new.assign(mean = mpg_new['total'] / 2)"
      ]
    },
    {
      "cell_type": "code",
      "execution_count": 49,
      "metadata": {
        "colab": {
          "base_uri": "https://localhost:8080/",
          "height": 206
        },
        "id": "gXMwSC8ro-Tx",
        "outputId": "8bd8b219-9fd7-4790-b98f-669c7a78b1af"
      },
      "outputs": [
        {
          "data": {
            "text/html": [
              "<div>\n",
              "<style scoped>\n",
              "    .dataframe tbody tr th:only-of-type {\n",
              "        vertical-align: middle;\n",
              "    }\n",
              "\n",
              "    .dataframe tbody tr th {\n",
              "        vertical-align: top;\n",
              "    }\n",
              "\n",
              "    .dataframe thead th {\n",
              "        text-align: right;\n",
              "    }\n",
              "</style>\n",
              "<table border=\"1\" class=\"dataframe\">\n",
              "  <thead>\n",
              "    <tr style=\"text-align: right;\">\n",
              "      <th></th>\n",
              "      <th>manufacturer</th>\n",
              "      <th>model</th>\n",
              "      <th>displ</th>\n",
              "      <th>year</th>\n",
              "      <th>cyl</th>\n",
              "      <th>trans</th>\n",
              "      <th>drv</th>\n",
              "      <th>cty</th>\n",
              "      <th>hwy</th>\n",
              "      <th>fl</th>\n",
              "      <th>category</th>\n",
              "      <th>total</th>\n",
              "      <th>mean</th>\n",
              "    </tr>\n",
              "  </thead>\n",
              "  <tbody>\n",
              "    <tr>\n",
              "      <th>0</th>\n",
              "      <td>audi</td>\n",
              "      <td>a4</td>\n",
              "      <td>1.8</td>\n",
              "      <td>1999</td>\n",
              "      <td>4</td>\n",
              "      <td>auto(l5)</td>\n",
              "      <td>f</td>\n",
              "      <td>18</td>\n",
              "      <td>29</td>\n",
              "      <td>p</td>\n",
              "      <td>compact</td>\n",
              "      <td>47</td>\n",
              "      <td>23.5</td>\n",
              "    </tr>\n",
              "    <tr>\n",
              "      <th>1</th>\n",
              "      <td>audi</td>\n",
              "      <td>a4</td>\n",
              "      <td>1.8</td>\n",
              "      <td>1999</td>\n",
              "      <td>4</td>\n",
              "      <td>manual(m5)</td>\n",
              "      <td>f</td>\n",
              "      <td>21</td>\n",
              "      <td>29</td>\n",
              "      <td>p</td>\n",
              "      <td>compact</td>\n",
              "      <td>50</td>\n",
              "      <td>25.0</td>\n",
              "    </tr>\n",
              "    <tr>\n",
              "      <th>2</th>\n",
              "      <td>audi</td>\n",
              "      <td>a4</td>\n",
              "      <td>2.0</td>\n",
              "      <td>2008</td>\n",
              "      <td>4</td>\n",
              "      <td>manual(m6)</td>\n",
              "      <td>f</td>\n",
              "      <td>20</td>\n",
              "      <td>31</td>\n",
              "      <td>p</td>\n",
              "      <td>compact</td>\n",
              "      <td>51</td>\n",
              "      <td>25.5</td>\n",
              "    </tr>\n",
              "    <tr>\n",
              "      <th>3</th>\n",
              "      <td>audi</td>\n",
              "      <td>a4</td>\n",
              "      <td>2.0</td>\n",
              "      <td>2008</td>\n",
              "      <td>4</td>\n",
              "      <td>auto(av)</td>\n",
              "      <td>f</td>\n",
              "      <td>21</td>\n",
              "      <td>30</td>\n",
              "      <td>p</td>\n",
              "      <td>compact</td>\n",
              "      <td>51</td>\n",
              "      <td>25.5</td>\n",
              "    </tr>\n",
              "    <tr>\n",
              "      <th>4</th>\n",
              "      <td>audi</td>\n",
              "      <td>a4</td>\n",
              "      <td>2.8</td>\n",
              "      <td>1999</td>\n",
              "      <td>6</td>\n",
              "      <td>auto(l5)</td>\n",
              "      <td>f</td>\n",
              "      <td>16</td>\n",
              "      <td>26</td>\n",
              "      <td>p</td>\n",
              "      <td>compact</td>\n",
              "      <td>42</td>\n",
              "      <td>21.0</td>\n",
              "    </tr>\n",
              "  </tbody>\n",
              "</table>\n",
              "</div>"
            ],
            "text/plain": [
              "  manufacturer model  displ  year  cyl       trans drv  cty  hwy fl category  \\\n",
              "0         audi    a4    1.8  1999    4    auto(l5)   f   18   29  p  compact   \n",
              "1         audi    a4    1.8  1999    4  manual(m5)   f   21   29  p  compact   \n",
              "2         audi    a4    2.0  2008    4  manual(m6)   f   20   31  p  compact   \n",
              "3         audi    a4    2.0  2008    4    auto(av)   f   21   30  p  compact   \n",
              "4         audi    a4    2.8  1999    6    auto(l5)   f   16   26  p  compact   \n",
              "\n",
              "   total  mean  \n",
              "0     47  23.5  \n",
              "1     50  25.0  \n",
              "2     51  25.5  \n",
              "3     51  25.5  \n",
              "4     42  21.0  "
            ]
          },
          "execution_count": 49,
          "metadata": {},
          "output_type": "execute_result"
        }
      ],
      "source": [
        "mpg_new.head()"
      ]
    },
    {
      "cell_type": "code",
      "execution_count": 50,
      "metadata": {
        "colab": {
          "base_uri": "https://localhost:8080/",
          "height": 143
        },
        "id": "XKB82X35o_ZU",
        "outputId": "213e2266-e4c5-4bf8-c4c4-01af2c8d3009"
      },
      "outputs": [
        {
          "data": {
            "text/html": [
              "<div>\n",
              "<style scoped>\n",
              "    .dataframe tbody tr th:only-of-type {\n",
              "        vertical-align: middle;\n",
              "    }\n",
              "\n",
              "    .dataframe tbody tr th {\n",
              "        vertical-align: top;\n",
              "    }\n",
              "\n",
              "    .dataframe thead th {\n",
              "        text-align: right;\n",
              "    }\n",
              "</style>\n",
              "<table border=\"1\" class=\"dataframe\">\n",
              "  <thead>\n",
              "    <tr style=\"text-align: right;\">\n",
              "      <th></th>\n",
              "      <th>manufacturer</th>\n",
              "      <th>model</th>\n",
              "      <th>displ</th>\n",
              "      <th>year</th>\n",
              "      <th>cyl</th>\n",
              "      <th>trans</th>\n",
              "      <th>drv</th>\n",
              "      <th>cty</th>\n",
              "      <th>hwy</th>\n",
              "      <th>fl</th>\n",
              "      <th>category</th>\n",
              "      <th>total</th>\n",
              "      <th>mean</th>\n",
              "    </tr>\n",
              "  </thead>\n",
              "  <tbody>\n",
              "    <tr>\n",
              "      <th>221</th>\n",
              "      <td>volkswagen</td>\n",
              "      <td>new beetle</td>\n",
              "      <td>1.9</td>\n",
              "      <td>1999</td>\n",
              "      <td>4</td>\n",
              "      <td>manual(m5)</td>\n",
              "      <td>f</td>\n",
              "      <td>35</td>\n",
              "      <td>44</td>\n",
              "      <td>d</td>\n",
              "      <td>subcompact</td>\n",
              "      <td>79</td>\n",
              "      <td>39.5</td>\n",
              "    </tr>\n",
              "    <tr>\n",
              "      <th>212</th>\n",
              "      <td>volkswagen</td>\n",
              "      <td>jetta</td>\n",
              "      <td>1.9</td>\n",
              "      <td>1999</td>\n",
              "      <td>4</td>\n",
              "      <td>manual(m5)</td>\n",
              "      <td>f</td>\n",
              "      <td>33</td>\n",
              "      <td>44</td>\n",
              "      <td>d</td>\n",
              "      <td>compact</td>\n",
              "      <td>77</td>\n",
              "      <td>38.5</td>\n",
              "    </tr>\n",
              "    <tr>\n",
              "      <th>222</th>\n",
              "      <td>volkswagen</td>\n",
              "      <td>new beetle</td>\n",
              "      <td>1.9</td>\n",
              "      <td>1999</td>\n",
              "      <td>4</td>\n",
              "      <td>auto(l4)</td>\n",
              "      <td>f</td>\n",
              "      <td>29</td>\n",
              "      <td>41</td>\n",
              "      <td>d</td>\n",
              "      <td>subcompact</td>\n",
              "      <td>70</td>\n",
              "      <td>35.0</td>\n",
              "    </tr>\n",
              "  </tbody>\n",
              "</table>\n",
              "</div>"
            ],
            "text/plain": [
              "    manufacturer       model  displ  year  cyl       trans drv  cty  hwy fl  \\\n",
              "221   volkswagen  new beetle    1.9  1999    4  manual(m5)   f   35   44  d   \n",
              "212   volkswagen       jetta    1.9  1999    4  manual(m5)   f   33   44  d   \n",
              "222   volkswagen  new beetle    1.9  1999    4    auto(l4)   f   29   41  d   \n",
              "\n",
              "       category  total  mean  \n",
              "221  subcompact     79  39.5  \n",
              "212     compact     77  38.5  \n",
              "222  subcompact     70  35.0  "
            ]
          },
          "execution_count": 50,
          "metadata": {},
          "output_type": "execute_result"
        }
      ],
      "source": [
        "# 평균 연비 컬럼(변수) -> mean 높은 순서(내림차순 정렬), 상위 3개추출\n",
        "mpg_new.sort_values('mean', ascending=False).head(3)"
      ]
    },
    {
      "cell_type": "code",
      "execution_count": 51,
      "metadata": {
        "id": "BYwq5rV9peiK"
      },
      "outputs": [],
      "source": [
        "# def func(x):\n",
        "#   x['cty'] + x['hwy']\n",
        "\n",
        "# func(mpg_new)"
      ]
    },
    {
      "cell_type": "code",
      "execution_count": 52,
      "metadata": {
        "colab": {
          "base_uri": "https://localhost:8080/",
          "height": 143
        },
        "id": "cEpX_PzTxKtk",
        "outputId": "ab997c3a-0ba3-471c-80c1-d15c241cf5c8"
      },
      "outputs": [
        {
          "data": {
            "text/html": [
              "<div>\n",
              "<style scoped>\n",
              "    .dataframe tbody tr th:only-of-type {\n",
              "        vertical-align: middle;\n",
              "    }\n",
              "\n",
              "    .dataframe tbody tr th {\n",
              "        vertical-align: top;\n",
              "    }\n",
              "\n",
              "    .dataframe thead th {\n",
              "        text-align: right;\n",
              "    }\n",
              "</style>\n",
              "<table border=\"1\" class=\"dataframe\">\n",
              "  <thead>\n",
              "    <tr style=\"text-align: right;\">\n",
              "      <th></th>\n",
              "      <th>manufacturer</th>\n",
              "      <th>model</th>\n",
              "      <th>displ</th>\n",
              "      <th>year</th>\n",
              "      <th>cyl</th>\n",
              "      <th>trans</th>\n",
              "      <th>drv</th>\n",
              "      <th>cty</th>\n",
              "      <th>hwy</th>\n",
              "      <th>fl</th>\n",
              "      <th>category</th>\n",
              "      <th>total</th>\n",
              "      <th>mean</th>\n",
              "    </tr>\n",
              "  </thead>\n",
              "  <tbody>\n",
              "    <tr>\n",
              "      <th>221</th>\n",
              "      <td>volkswagen</td>\n",
              "      <td>new beetle</td>\n",
              "      <td>1.9</td>\n",
              "      <td>1999</td>\n",
              "      <td>4</td>\n",
              "      <td>manual(m5)</td>\n",
              "      <td>f</td>\n",
              "      <td>35</td>\n",
              "      <td>44</td>\n",
              "      <td>d</td>\n",
              "      <td>subcompact</td>\n",
              "      <td>79</td>\n",
              "      <td>39.5</td>\n",
              "    </tr>\n",
              "    <tr>\n",
              "      <th>212</th>\n",
              "      <td>volkswagen</td>\n",
              "      <td>jetta</td>\n",
              "      <td>1.9</td>\n",
              "      <td>1999</td>\n",
              "      <td>4</td>\n",
              "      <td>manual(m5)</td>\n",
              "      <td>f</td>\n",
              "      <td>33</td>\n",
              "      <td>44</td>\n",
              "      <td>d</td>\n",
              "      <td>compact</td>\n",
              "      <td>77</td>\n",
              "      <td>38.5</td>\n",
              "    </tr>\n",
              "    <tr>\n",
              "      <th>222</th>\n",
              "      <td>volkswagen</td>\n",
              "      <td>new beetle</td>\n",
              "      <td>1.9</td>\n",
              "      <td>1999</td>\n",
              "      <td>4</td>\n",
              "      <td>auto(l4)</td>\n",
              "      <td>f</td>\n",
              "      <td>29</td>\n",
              "      <td>41</td>\n",
              "      <td>d</td>\n",
              "      <td>subcompact</td>\n",
              "      <td>70</td>\n",
              "      <td>35.0</td>\n",
              "    </tr>\n",
              "  </tbody>\n",
              "</table>\n",
              "</div>"
            ],
            "text/plain": [
              "    manufacturer       model  displ  year  cyl       trans drv  cty  hwy fl  \\\n",
              "221   volkswagen  new beetle    1.9  1999    4  manual(m5)   f   35   44  d   \n",
              "212   volkswagen       jetta    1.9  1999    4  manual(m5)   f   33   44  d   \n",
              "222   volkswagen  new beetle    1.9  1999    4    auto(l4)   f   29   41  d   \n",
              "\n",
              "       category  total  mean  \n",
              "221  subcompact     79  39.5  \n",
              "212     compact     77  38.5  \n",
              "222  subcompact     70  35.0  "
            ]
          },
          "execution_count": 52,
          "metadata": {},
          "output_type": "execute_result"
        }
      ],
      "source": [
        "mpg.assign(total = lambda x: x['cty'] + x['hwy'],\n",
        "           mean = lambda x: x['total'] / 2) \\\n",
        "           .sort_values('mean', ascending=False) \\\n",
        "           .head(3)"
      ]
    },
    {
      "cell_type": "code",
      "execution_count": 53,
      "metadata": {
        "colab": {
          "base_uri": "https://localhost:8080/",
          "height": 770
        },
        "id": "UtDRpqH-x3Mu",
        "outputId": "b4d28582-c458-43d6-8b32-a99274d7a140"
      },
      "outputs": [
        {
          "data": {
            "text/html": [
              "<div>\n",
              "<style scoped>\n",
              "    .dataframe tbody tr th:only-of-type {\n",
              "        vertical-align: middle;\n",
              "    }\n",
              "\n",
              "    .dataframe tbody tr th {\n",
              "        vertical-align: top;\n",
              "    }\n",
              "\n",
              "    .dataframe thead th {\n",
              "        text-align: right;\n",
              "    }\n",
              "</style>\n",
              "<table border=\"1\" class=\"dataframe\">\n",
              "  <thead>\n",
              "    <tr style=\"text-align: right;\">\n",
              "      <th></th>\n",
              "      <th></th>\n",
              "      <th>mean_cty</th>\n",
              "    </tr>\n",
              "    <tr>\n",
              "      <th>manufacturer</th>\n",
              "      <th>drv</th>\n",
              "      <th></th>\n",
              "    </tr>\n",
              "  </thead>\n",
              "  <tbody>\n",
              "    <tr>\n",
              "      <th rowspan=\"2\" valign=\"top\">audi</th>\n",
              "      <th>4</th>\n",
              "      <td>16.818182</td>\n",
              "    </tr>\n",
              "    <tr>\n",
              "      <th>f</th>\n",
              "      <td>18.857143</td>\n",
              "    </tr>\n",
              "    <tr>\n",
              "      <th rowspan=\"3\" valign=\"top\">chevrolet</th>\n",
              "      <th>4</th>\n",
              "      <td>12.500000</td>\n",
              "    </tr>\n",
              "    <tr>\n",
              "      <th>f</th>\n",
              "      <td>18.800000</td>\n",
              "    </tr>\n",
              "    <tr>\n",
              "      <th>r</th>\n",
              "      <td>14.100000</td>\n",
              "    </tr>\n",
              "    <tr>\n",
              "      <th rowspan=\"2\" valign=\"top\">dodge</th>\n",
              "      <th>4</th>\n",
              "      <td>12.000000</td>\n",
              "    </tr>\n",
              "    <tr>\n",
              "      <th>f</th>\n",
              "      <td>15.818182</td>\n",
              "    </tr>\n",
              "    <tr>\n",
              "      <th rowspan=\"2\" valign=\"top\">ford</th>\n",
              "      <th>4</th>\n",
              "      <td>13.307692</td>\n",
              "    </tr>\n",
              "    <tr>\n",
              "      <th>r</th>\n",
              "      <td>14.750000</td>\n",
              "    </tr>\n",
              "    <tr>\n",
              "      <th>honda</th>\n",
              "      <th>f</th>\n",
              "      <td>24.444444</td>\n",
              "    </tr>\n",
              "    <tr>\n",
              "      <th>hyundai</th>\n",
              "      <th>f</th>\n",
              "      <td>18.642857</td>\n",
              "    </tr>\n",
              "    <tr>\n",
              "      <th>jeep</th>\n",
              "      <th>4</th>\n",
              "      <td>13.500000</td>\n",
              "    </tr>\n",
              "    <tr>\n",
              "      <th>land rover</th>\n",
              "      <th>4</th>\n",
              "      <td>11.500000</td>\n",
              "    </tr>\n",
              "    <tr>\n",
              "      <th>lincoln</th>\n",
              "      <th>r</th>\n",
              "      <td>11.333333</td>\n",
              "    </tr>\n",
              "    <tr>\n",
              "      <th>mercury</th>\n",
              "      <th>4</th>\n",
              "      <td>13.250000</td>\n",
              "    </tr>\n",
              "    <tr>\n",
              "      <th rowspan=\"2\" valign=\"top\">nissan</th>\n",
              "      <th>4</th>\n",
              "      <td>13.750000</td>\n",
              "    </tr>\n",
              "    <tr>\n",
              "      <th>f</th>\n",
              "      <td>20.000000</td>\n",
              "    </tr>\n",
              "    <tr>\n",
              "      <th>pontiac</th>\n",
              "      <th>f</th>\n",
              "      <td>17.000000</td>\n",
              "    </tr>\n",
              "    <tr>\n",
              "      <th>subaru</th>\n",
              "      <th>4</th>\n",
              "      <td>19.285714</td>\n",
              "    </tr>\n",
              "    <tr>\n",
              "      <th rowspan=\"2\" valign=\"top\">toyota</th>\n",
              "      <th>4</th>\n",
              "      <td>14.933333</td>\n",
              "    </tr>\n",
              "    <tr>\n",
              "      <th>f</th>\n",
              "      <td>21.368421</td>\n",
              "    </tr>\n",
              "    <tr>\n",
              "      <th>volkswagen</th>\n",
              "      <th>f</th>\n",
              "      <td>20.925926</td>\n",
              "    </tr>\n",
              "  </tbody>\n",
              "</table>\n",
              "</div>"
            ],
            "text/plain": [
              "                   mean_cty\n",
              "manufacturer drv           \n",
              "audi         4    16.818182\n",
              "             f    18.857143\n",
              "chevrolet    4    12.500000\n",
              "             f    18.800000\n",
              "             r    14.100000\n",
              "dodge        4    12.000000\n",
              "             f    15.818182\n",
              "ford         4    13.307692\n",
              "             r    14.750000\n",
              "honda        f    24.444444\n",
              "hyundai      f    18.642857\n",
              "jeep         4    13.500000\n",
              "land rover   4    11.500000\n",
              "lincoln      r    11.333333\n",
              "mercury      4    13.250000\n",
              "nissan       4    13.750000\n",
              "             f    20.000000\n",
              "pontiac      f    17.000000\n",
              "subaru       4    19.285714\n",
              "toyota       4    14.933333\n",
              "             f    21.368421\n",
              "volkswagen   f    20.925926"
            ]
          },
          "execution_count": 53,
          "metadata": {},
          "output_type": "execute_result"
        }
      ],
      "source": [
        "# 제조 회사(manufacturer) 및 구동 방식(drv)별 분리\n",
        "# cty 평균 컬럼명 -> mean_cty\n",
        "mpg.groupby(['manufacturer', 'drv']) \\\n",
        "    .agg(mean_cty = ('cty', 'mean'))"
      ]
    },
    {
      "cell_type": "code",
      "execution_count": 54,
      "metadata": {
        "colab": {
          "base_uri": "https://localhost:8080/",
          "height": 175
        },
        "id": "0wnZY4u60L_v",
        "outputId": "33e4a5b7-bb65-4d90-e247-8da950f82128"
      },
      "outputs": [
        {
          "data": {
            "text/html": [
              "<div>\n",
              "<style scoped>\n",
              "    .dataframe tbody tr th:only-of-type {\n",
              "        vertical-align: middle;\n",
              "    }\n",
              "\n",
              "    .dataframe tbody tr th {\n",
              "        vertical-align: top;\n",
              "    }\n",
              "\n",
              "    .dataframe thead th {\n",
              "        text-align: right;\n",
              "    }\n",
              "</style>\n",
              "<table border=\"1\" class=\"dataframe\">\n",
              "  <thead>\n",
              "    <tr style=\"text-align: right;\">\n",
              "      <th></th>\n",
              "      <th>n</th>\n",
              "    </tr>\n",
              "    <tr>\n",
              "      <th>drv</th>\n",
              "      <th></th>\n",
              "    </tr>\n",
              "  </thead>\n",
              "  <tbody>\n",
              "    <tr>\n",
              "      <th>4</th>\n",
              "      <td>103</td>\n",
              "    </tr>\n",
              "    <tr>\n",
              "      <th>f</th>\n",
              "      <td>106</td>\n",
              "    </tr>\n",
              "    <tr>\n",
              "      <th>r</th>\n",
              "      <td>25</td>\n",
              "    </tr>\n",
              "  </tbody>\n",
              "</table>\n",
              "</div>"
            ],
            "text/plain": [
              "       n\n",
              "drv     \n",
              "4    103\n",
              "f    106\n",
              "r     25"
            ]
          },
          "execution_count": 54,
          "metadata": {},
          "output_type": "execute_result"
        }
      ],
      "source": [
        "# 구동방식(drv)별 drv의 개수\n",
        "mpg.groupby('drv').agg(n = ('drv', 'count')) # 데이터프레임"
      ]
    },
    {
      "cell_type": "code",
      "execution_count": 55,
      "metadata": {
        "colab": {
          "base_uri": "https://localhost:8080/",
          "height": 209
        },
        "id": "6zto7Gm3zCps",
        "outputId": "3c7597cc-d8f5-41f0-c16d-55262e1a95a1"
      },
      "outputs": [
        {
          "data": {
            "text/plain": [
              "drv\n",
              "f    106\n",
              "4    103\n",
              "r     25\n",
              "Name: count, dtype: int64"
            ]
          },
          "execution_count": 55,
          "metadata": {},
          "output_type": "execute_result"
        }
      ],
      "source": [
        "# value_counts()로 집단별 빈도 간단하게 구하기\n",
        "mpg['drv'].value_counts()  # 시리즈"
      ]
    },
    {
      "cell_type": "code",
      "execution_count": 56,
      "metadata": {
        "colab": {
          "base_uri": "https://localhost:8080/",
          "height": 363
        },
        "id": "mTvYgEfE1jMV",
        "outputId": "0bdb1c3d-3983-4577-e598-cc3a596a4430"
      },
      "outputs": [
        {
          "data": {
            "text/html": [
              "<div>\n",
              "<style scoped>\n",
              "    .dataframe tbody tr th:only-of-type {\n",
              "        vertical-align: middle;\n",
              "    }\n",
              "\n",
              "    .dataframe tbody tr th {\n",
              "        vertical-align: top;\n",
              "    }\n",
              "\n",
              "    .dataframe thead th {\n",
              "        text-align: right;\n",
              "    }\n",
              "</style>\n",
              "<table border=\"1\" class=\"dataframe\">\n",
              "  <thead>\n",
              "    <tr style=\"text-align: right;\">\n",
              "      <th></th>\n",
              "      <th>manufacturer</th>\n",
              "      <th>model</th>\n",
              "      <th>displ</th>\n",
              "      <th>year</th>\n",
              "      <th>cyl</th>\n",
              "      <th>trans</th>\n",
              "      <th>drv</th>\n",
              "      <th>cty</th>\n",
              "      <th>hwy</th>\n",
              "      <th>fl</th>\n",
              "      <th>category</th>\n",
              "    </tr>\n",
              "  </thead>\n",
              "  <tbody>\n",
              "    <tr>\n",
              "      <th>214</th>\n",
              "      <td>volkswagen</td>\n",
              "      <td>jetta</td>\n",
              "      <td>2.0</td>\n",
              "      <td>1999</td>\n",
              "      <td>4</td>\n",
              "      <td>auto(l4)</td>\n",
              "      <td>f</td>\n",
              "      <td>19</td>\n",
              "      <td>26</td>\n",
              "      <td>r</td>\n",
              "      <td>compact</td>\n",
              "    </tr>\n",
              "    <tr>\n",
              "      <th>45</th>\n",
              "      <td>dodge</td>\n",
              "      <td>caravan 2wd</td>\n",
              "      <td>3.8</td>\n",
              "      <td>1999</td>\n",
              "      <td>6</td>\n",
              "      <td>auto(l4)</td>\n",
              "      <td>f</td>\n",
              "      <td>15</td>\n",
              "      <td>21</td>\n",
              "      <td>r</td>\n",
              "      <td>minivan</td>\n",
              "    </tr>\n",
              "    <tr>\n",
              "      <th>212</th>\n",
              "      <td>volkswagen</td>\n",
              "      <td>jetta</td>\n",
              "      <td>1.9</td>\n",
              "      <td>1999</td>\n",
              "      <td>4</td>\n",
              "      <td>manual(m5)</td>\n",
              "      <td>f</td>\n",
              "      <td>33</td>\n",
              "      <td>44</td>\n",
              "      <td>d</td>\n",
              "      <td>compact</td>\n",
              "    </tr>\n",
              "    <tr>\n",
              "      <th>100</th>\n",
              "      <td>honda</td>\n",
              "      <td>civic</td>\n",
              "      <td>1.6</td>\n",
              "      <td>1999</td>\n",
              "      <td>4</td>\n",
              "      <td>auto(l4)</td>\n",
              "      <td>f</td>\n",
              "      <td>24</td>\n",
              "      <td>32</td>\n",
              "      <td>r</td>\n",
              "      <td>subcompact</td>\n",
              "    </tr>\n",
              "    <tr>\n",
              "      <th>128</th>\n",
              "      <td>jeep</td>\n",
              "      <td>grand cherokee 4wd</td>\n",
              "      <td>5.7</td>\n",
              "      <td>2008</td>\n",
              "      <td>8</td>\n",
              "      <td>auto(l5)</td>\n",
              "      <td>4</td>\n",
              "      <td>13</td>\n",
              "      <td>18</td>\n",
              "      <td>r</td>\n",
              "      <td>suv</td>\n",
              "    </tr>\n",
              "    <tr>\n",
              "      <th>185</th>\n",
              "      <td>toyota</td>\n",
              "      <td>camry</td>\n",
              "      <td>3.5</td>\n",
              "      <td>2008</td>\n",
              "      <td>6</td>\n",
              "      <td>auto(s6)</td>\n",
              "      <td>f</td>\n",
              "      <td>19</td>\n",
              "      <td>28</td>\n",
              "      <td>r</td>\n",
              "      <td>midsize</td>\n",
              "    </tr>\n",
              "    <tr>\n",
              "      <th>48</th>\n",
              "      <td>dodge</td>\n",
              "      <td>dakota pickup 4wd</td>\n",
              "      <td>3.7</td>\n",
              "      <td>2008</td>\n",
              "      <td>6</td>\n",
              "      <td>manual(m6)</td>\n",
              "      <td>4</td>\n",
              "      <td>15</td>\n",
              "      <td>19</td>\n",
              "      <td>r</td>\n",
              "      <td>pickup</td>\n",
              "    </tr>\n",
              "    <tr>\n",
              "      <th>4</th>\n",
              "      <td>audi</td>\n",
              "      <td>a4</td>\n",
              "      <td>2.8</td>\n",
              "      <td>1999</td>\n",
              "      <td>6</td>\n",
              "      <td>auto(l5)</td>\n",
              "      <td>f</td>\n",
              "      <td>16</td>\n",
              "      <td>26</td>\n",
              "      <td>p</td>\n",
              "      <td>compact</td>\n",
              "    </tr>\n",
              "    <tr>\n",
              "      <th>82</th>\n",
              "      <td>ford</td>\n",
              "      <td>explorer 4wd</td>\n",
              "      <td>5.0</td>\n",
              "      <td>1999</td>\n",
              "      <td>8</td>\n",
              "      <td>auto(l4)</td>\n",
              "      <td>4</td>\n",
              "      <td>13</td>\n",
              "      <td>17</td>\n",
              "      <td>r</td>\n",
              "      <td>suv</td>\n",
              "    </tr>\n",
              "    <tr>\n",
              "      <th>27</th>\n",
              "      <td>chevrolet</td>\n",
              "      <td>corvette</td>\n",
              "      <td>7.0</td>\n",
              "      <td>2008</td>\n",
              "      <td>8</td>\n",
              "      <td>manual(m6)</td>\n",
              "      <td>r</td>\n",
              "      <td>15</td>\n",
              "      <td>24</td>\n",
              "      <td>p</td>\n",
              "      <td>2seater</td>\n",
              "    </tr>\n",
              "  </tbody>\n",
              "</table>\n",
              "</div>"
            ],
            "text/plain": [
              "    manufacturer               model  displ  year  cyl       trans drv  cty  \\\n",
              "214   volkswagen               jetta    2.0  1999    4    auto(l4)   f   19   \n",
              "45         dodge         caravan 2wd    3.8  1999    6    auto(l4)   f   15   \n",
              "212   volkswagen               jetta    1.9  1999    4  manual(m5)   f   33   \n",
              "100        honda               civic    1.6  1999    4    auto(l4)   f   24   \n",
              "128         jeep  grand cherokee 4wd    5.7  2008    8    auto(l5)   4   13   \n",
              "185       toyota               camry    3.5  2008    6    auto(s6)   f   19   \n",
              "48         dodge   dakota pickup 4wd    3.7  2008    6  manual(m6)   4   15   \n",
              "4           audi                  a4    2.8  1999    6    auto(l5)   f   16   \n",
              "82          ford        explorer 4wd    5.0  1999    8    auto(l4)   4   13   \n",
              "27     chevrolet            corvette    7.0  2008    8  manual(m6)   r   15   \n",
              "\n",
              "     hwy fl    category  \n",
              "214   26  r     compact  \n",
              "45    21  r     minivan  \n",
              "212   44  d     compact  \n",
              "100   32  r  subcompact  \n",
              "128   18  r         suv  \n",
              "185   28  r     midsize  \n",
              "48    19  r      pickup  \n",
              "4     26  p     compact  \n",
              "82    17  r         suv  \n",
              "27    24  p     2seater  "
            ]
          },
          "execution_count": 56,
          "metadata": {},
          "output_type": "execute_result"
        }
      ],
      "source": [
        "mpg.sample(10)"
      ]
    },
    {
      "cell_type": "code",
      "execution_count": 57,
      "metadata": {
        "colab": {
          "base_uri": "https://localhost:8080/",
          "height": 237
        },
        "id": "DmFUZiaL0gD0",
        "outputId": "105b82c7-df3a-4717-bdd9-1c7980251637"
      },
      "outputs": [
        {
          "data": {
            "text/html": [
              "<div>\n",
              "<style scoped>\n",
              "    .dataframe tbody tr th:only-of-type {\n",
              "        vertical-align: middle;\n",
              "    }\n",
              "\n",
              "    .dataframe tbody tr th {\n",
              "        vertical-align: top;\n",
              "    }\n",
              "\n",
              "    .dataframe thead th {\n",
              "        text-align: right;\n",
              "    }\n",
              "</style>\n",
              "<table border=\"1\" class=\"dataframe\">\n",
              "  <thead>\n",
              "    <tr style=\"text-align: right;\">\n",
              "      <th></th>\n",
              "      <th>mean_tot</th>\n",
              "    </tr>\n",
              "    <tr>\n",
              "      <th>manufacturer</th>\n",
              "      <th></th>\n",
              "    </tr>\n",
              "  </thead>\n",
              "  <tbody>\n",
              "    <tr>\n",
              "      <th>subaru</th>\n",
              "      <td>43.833333</td>\n",
              "    </tr>\n",
              "    <tr>\n",
              "      <th>toyota</th>\n",
              "      <td>32.625000</td>\n",
              "    </tr>\n",
              "    <tr>\n",
              "      <th>nissan</th>\n",
              "      <td>31.750000</td>\n",
              "    </tr>\n",
              "    <tr>\n",
              "      <th>mercury</th>\n",
              "      <td>31.250000</td>\n",
              "    </tr>\n",
              "    <tr>\n",
              "      <th>jeep</th>\n",
              "      <td>31.125000</td>\n",
              "    </tr>\n",
              "  </tbody>\n",
              "</table>\n",
              "</div>"
            ],
            "text/plain": [
              "               mean_tot\n",
              "manufacturer           \n",
              "subaru        43.833333\n",
              "toyota        32.625000\n",
              "nissan        31.750000\n",
              "mercury       31.250000\n",
              "jeep          31.125000"
            ]
          },
          "execution_count": 57,
          "metadata": {},
          "output_type": "execute_result"
        }
      ],
      "source": [
        "# 1.suv 추출 -> 2.합산 연비 ->\n",
        "# 3.회사별로 분리(그룹) -> 4. 합산 연비 평균 ->\n",
        "# 5.평균 내림차순 -> 6.1~5위\n",
        "mpg.query('category == \"suv\"')  \\\n",
        "    .assign(total = mpg['hwy'] + mpg['cty']) \\\n",
        "    .groupby('manufacturer') \\\n",
        "    .agg(mean_tot = ('total', 'mean')) \\\n",
        "    .sort_values('mean_tot', ascending=False) \\\n",
        "    .head()"
      ]
    },
    {
      "cell_type": "code",
      "execution_count": 58,
      "metadata": {
        "colab": {
          "base_uri": "https://localhost:8080/",
          "height": 300
        },
        "id": "4QO7SREY2Y_d",
        "outputId": "9d4587bd-3786-40c5-ac24-42d6d041f8b5"
      },
      "outputs": [
        {
          "data": {
            "text/html": [
              "<div>\n",
              "<style scoped>\n",
              "    .dataframe tbody tr th:only-of-type {\n",
              "        vertical-align: middle;\n",
              "    }\n",
              "\n",
              "    .dataframe tbody tr th {\n",
              "        vertical-align: top;\n",
              "    }\n",
              "\n",
              "    .dataframe thead th {\n",
              "        text-align: right;\n",
              "    }\n",
              "</style>\n",
              "<table border=\"1\" class=\"dataframe\">\n",
              "  <thead>\n",
              "    <tr style=\"text-align: right;\">\n",
              "      <th></th>\n",
              "      <th>mean_cty</th>\n",
              "    </tr>\n",
              "    <tr>\n",
              "      <th>category</th>\n",
              "      <th></th>\n",
              "    </tr>\n",
              "  </thead>\n",
              "  <tbody>\n",
              "    <tr>\n",
              "      <th>2seater</th>\n",
              "      <td>15.400000</td>\n",
              "    </tr>\n",
              "    <tr>\n",
              "      <th>compact</th>\n",
              "      <td>20.127660</td>\n",
              "    </tr>\n",
              "    <tr>\n",
              "      <th>midsize</th>\n",
              "      <td>18.756098</td>\n",
              "    </tr>\n",
              "    <tr>\n",
              "      <th>minivan</th>\n",
              "      <td>15.818182</td>\n",
              "    </tr>\n",
              "    <tr>\n",
              "      <th>pickup</th>\n",
              "      <td>13.000000</td>\n",
              "    </tr>\n",
              "    <tr>\n",
              "      <th>subcompact</th>\n",
              "      <td>20.371429</td>\n",
              "    </tr>\n",
              "    <tr>\n",
              "      <th>suv</th>\n",
              "      <td>13.500000</td>\n",
              "    </tr>\n",
              "  </tbody>\n",
              "</table>\n",
              "</div>"
            ],
            "text/plain": [
              "             mean_cty\n",
              "category             \n",
              "2seater     15.400000\n",
              "compact     20.127660\n",
              "midsize     18.756098\n",
              "minivan     15.818182\n",
              "pickup      13.000000\n",
              "subcompact  20.371429\n",
              "suv         13.500000"
            ]
          },
          "execution_count": 58,
          "metadata": {},
          "output_type": "execute_result"
        }
      ],
      "source": [
        "# category별 (그룹) -> cty 평균\n",
        "mpg.groupby('category') \\\n",
        "    .agg(mean_cty = ('cty', 'mean'))"
      ]
    },
    {
      "cell_type": "code",
      "execution_count": 59,
      "metadata": {
        "colab": {
          "base_uri": "https://localhost:8080/",
          "height": 300
        },
        "id": "7nV7wxuk3FnG",
        "outputId": "2d5edcdc-396f-41d3-8f16-8597b1aa926c"
      },
      "outputs": [
        {
          "data": {
            "text/html": [
              "<div>\n",
              "<style scoped>\n",
              "    .dataframe tbody tr th:only-of-type {\n",
              "        vertical-align: middle;\n",
              "    }\n",
              "\n",
              "    .dataframe tbody tr th {\n",
              "        vertical-align: top;\n",
              "    }\n",
              "\n",
              "    .dataframe thead th {\n",
              "        text-align: right;\n",
              "    }\n",
              "</style>\n",
              "<table border=\"1\" class=\"dataframe\">\n",
              "  <thead>\n",
              "    <tr style=\"text-align: right;\">\n",
              "      <th></th>\n",
              "      <th>mean_cty</th>\n",
              "    </tr>\n",
              "    <tr>\n",
              "      <th>category</th>\n",
              "      <th></th>\n",
              "    </tr>\n",
              "  </thead>\n",
              "  <tbody>\n",
              "    <tr>\n",
              "      <th>subcompact</th>\n",
              "      <td>20.371429</td>\n",
              "    </tr>\n",
              "    <tr>\n",
              "      <th>compact</th>\n",
              "      <td>20.127660</td>\n",
              "    </tr>\n",
              "    <tr>\n",
              "      <th>midsize</th>\n",
              "      <td>18.756098</td>\n",
              "    </tr>\n",
              "    <tr>\n",
              "      <th>minivan</th>\n",
              "      <td>15.818182</td>\n",
              "    </tr>\n",
              "    <tr>\n",
              "      <th>2seater</th>\n",
              "      <td>15.400000</td>\n",
              "    </tr>\n",
              "    <tr>\n",
              "      <th>suv</th>\n",
              "      <td>13.500000</td>\n",
              "    </tr>\n",
              "    <tr>\n",
              "      <th>pickup</th>\n",
              "      <td>13.000000</td>\n",
              "    </tr>\n",
              "  </tbody>\n",
              "</table>\n",
              "</div>"
            ],
            "text/plain": [
              "             mean_cty\n",
              "category             \n",
              "subcompact  20.371429\n",
              "compact     20.127660\n",
              "midsize     18.756098\n",
              "minivan     15.818182\n",
              "2seater     15.400000\n",
              "suv         13.500000\n",
              "pickup      13.000000"
            ]
          },
          "execution_count": 59,
          "metadata": {},
          "output_type": "execute_result"
        }
      ],
      "source": [
        "# category별 (그룹) -> cty 평균 -> 높은 순(내림차순)\n",
        "mpg.groupby('category') \\\n",
        "    .agg(mean_cty = ('cty', 'mean')) \\\n",
        "    .sort_values('mean_cty', ascending=False)"
      ]
    },
    {
      "cell_type": "code",
      "execution_count": 60,
      "metadata": {
        "colab": {
          "base_uri": "https://localhost:8080/",
          "height": 175
        },
        "id": "CuI4hR3G3fSa",
        "outputId": "f7fe657b-2664-4c30-9a70-e16218e61d12"
      },
      "outputs": [
        {
          "data": {
            "text/html": [
              "<div>\n",
              "<style scoped>\n",
              "    .dataframe tbody tr th:only-of-type {\n",
              "        vertical-align: middle;\n",
              "    }\n",
              "\n",
              "    .dataframe tbody tr th {\n",
              "        vertical-align: top;\n",
              "    }\n",
              "\n",
              "    .dataframe thead th {\n",
              "        text-align: right;\n",
              "    }\n",
              "</style>\n",
              "<table border=\"1\" class=\"dataframe\">\n",
              "  <thead>\n",
              "    <tr style=\"text-align: right;\">\n",
              "      <th></th>\n",
              "      <th>mean_hwy</th>\n",
              "    </tr>\n",
              "    <tr>\n",
              "      <th>manufacturer</th>\n",
              "      <th></th>\n",
              "    </tr>\n",
              "  </thead>\n",
              "  <tbody>\n",
              "    <tr>\n",
              "      <th>honda</th>\n",
              "      <td>32.555556</td>\n",
              "    </tr>\n",
              "    <tr>\n",
              "      <th>volkswagen</th>\n",
              "      <td>29.222222</td>\n",
              "    </tr>\n",
              "    <tr>\n",
              "      <th>hyundai</th>\n",
              "      <td>26.857143</td>\n",
              "    </tr>\n",
              "  </tbody>\n",
              "</table>\n",
              "</div>"
            ],
            "text/plain": [
              "               mean_hwy\n",
              "manufacturer           \n",
              "honda         32.555556\n",
              "volkswagen    29.222222\n",
              "hyundai       26.857143"
            ]
          },
          "execution_count": 60,
          "metadata": {},
          "output_type": "execute_result"
        }
      ],
      "source": [
        "# 어떤 회사별 (제조회사별) -> hwy(고속도로 연비) 평균 -> 내림차순 -> 1~3\n",
        "mpg.groupby('manufacturer') \\\n",
        "    .agg(mean_hwy = ('hwy', 'mean')) \\\n",
        "    .sort_values('mean_hwy', ascending=False) \\\n",
        "    .head(3)"
      ]
    },
    {
      "cell_type": "code",
      "execution_count": 61,
      "metadata": {
        "colab": {
          "base_uri": "https://localhost:8080/",
          "height": 237
        },
        "id": "fF5GxeZU4Tag",
        "outputId": "ddabb03b-14cb-4282-c4dd-23eadb32fcde"
      },
      "outputs": [
        {
          "data": {
            "text/html": [
              "<div>\n",
              "<style scoped>\n",
              "    .dataframe tbody tr th:only-of-type {\n",
              "        vertical-align: middle;\n",
              "    }\n",
              "\n",
              "    .dataframe tbody tr th {\n",
              "        vertical-align: top;\n",
              "    }\n",
              "\n",
              "    .dataframe thead th {\n",
              "        text-align: right;\n",
              "    }\n",
              "</style>\n",
              "<table border=\"1\" class=\"dataframe\">\n",
              "  <thead>\n",
              "    <tr style=\"text-align: right;\">\n",
              "      <th></th>\n",
              "      <th>n</th>\n",
              "    </tr>\n",
              "    <tr>\n",
              "      <th>manufacturer</th>\n",
              "      <th></th>\n",
              "    </tr>\n",
              "  </thead>\n",
              "  <tbody>\n",
              "    <tr>\n",
              "      <th>audi</th>\n",
              "      <td>15</td>\n",
              "    </tr>\n",
              "    <tr>\n",
              "      <th>volkswagen</th>\n",
              "      <td>14</td>\n",
              "    </tr>\n",
              "    <tr>\n",
              "      <th>toyota</th>\n",
              "      <td>12</td>\n",
              "    </tr>\n",
              "    <tr>\n",
              "      <th>subaru</th>\n",
              "      <td>4</td>\n",
              "    </tr>\n",
              "    <tr>\n",
              "      <th>nissan</th>\n",
              "      <td>2</td>\n",
              "    </tr>\n",
              "  </tbody>\n",
              "</table>\n",
              "</div>"
            ],
            "text/plain": [
              "               n\n",
              "manufacturer    \n",
              "audi          15\n",
              "volkswagen    14\n",
              "toyota        12\n",
              "subaru         4\n",
              "nissan         2"
            ]
          },
          "execution_count": 61,
          "metadata": {},
          "output_type": "execute_result"
        }
      ],
      "source": [
        "# 차종(category) 'compact' ->\n",
        "# 회사별(manufacturer) 그룹 -> 개수 -> 내림차순\n",
        "mpg.query('category == \"compact\"') \\\n",
        "    .groupby('manufacturer') \\\n",
        "    .agg(n = ('manufacturer', 'count')) \\\n",
        "    .sort_values('n', ascending=False)"
      ]
    },
    {
      "cell_type": "code",
      "execution_count": 62,
      "metadata": {
        "colab": {
          "base_uri": "https://localhost:8080/",
          "height": 272
        },
        "id": "7sb4w4GY5K54",
        "outputId": "1bffad05-17b8-4ebf-aa0e-a3c13ae48352"
      },
      "outputs": [
        {
          "data": {
            "text/plain": [
              "manufacturer\n",
              "audi          15\n",
              "volkswagen    14\n",
              "toyota        12\n",
              "subaru         4\n",
              "nissan         2\n",
              "Name: count, dtype: int64"
            ]
          },
          "execution_count": 62,
          "metadata": {},
          "output_type": "execute_result"
        }
      ],
      "source": [
        "mpg.query('category == \"compact\"') \\\n",
        "    .value_counts('manufacturer')"
      ]
    },
    {
      "cell_type": "code",
      "execution_count": 63,
      "metadata": {
        "colab": {
          "base_uri": "https://localhost:8080/",
          "height": 206
        },
        "id": "BfZpObhu5a7W",
        "outputId": "17bce2aa-71a3-4fe3-cd0a-bb54a593449f"
      },
      "outputs": [
        {
          "data": {
            "text/html": [
              "<div>\n",
              "<style scoped>\n",
              "    .dataframe tbody tr th:only-of-type {\n",
              "        vertical-align: middle;\n",
              "    }\n",
              "\n",
              "    .dataframe tbody tr th {\n",
              "        vertical-align: top;\n",
              "    }\n",
              "\n",
              "    .dataframe thead th {\n",
              "        text-align: right;\n",
              "    }\n",
              "</style>\n",
              "<table border=\"1\" class=\"dataframe\">\n",
              "  <thead>\n",
              "    <tr style=\"text-align: right;\">\n",
              "      <th></th>\n",
              "      <th>fl</th>\n",
              "      <th>price_fl</th>\n",
              "    </tr>\n",
              "  </thead>\n",
              "  <tbody>\n",
              "    <tr>\n",
              "      <th>0</th>\n",
              "      <td>c</td>\n",
              "      <td>2.35</td>\n",
              "    </tr>\n",
              "    <tr>\n",
              "      <th>1</th>\n",
              "      <td>d</td>\n",
              "      <td>2.38</td>\n",
              "    </tr>\n",
              "    <tr>\n",
              "      <th>2</th>\n",
              "      <td>e</td>\n",
              "      <td>2.11</td>\n",
              "    </tr>\n",
              "    <tr>\n",
              "      <th>3</th>\n",
              "      <td>p</td>\n",
              "      <td>2.76</td>\n",
              "    </tr>\n",
              "    <tr>\n",
              "      <th>4</th>\n",
              "      <td>r</td>\n",
              "      <td>2.22</td>\n",
              "    </tr>\n",
              "  </tbody>\n",
              "</table>\n",
              "</div>"
            ],
            "text/plain": [
              "  fl  price_fl\n",
              "0  c      2.35\n",
              "1  d      2.38\n",
              "2  e      2.11\n",
              "3  p      2.76\n",
              "4  r      2.22"
            ]
          },
          "execution_count": 63,
          "metadata": {},
          "output_type": "execute_result"
        }
      ],
      "source": [
        "# 연료 데이터프레임\n",
        "fuel = pd.DataFrame({\n",
        "    'fl': ['c', 'd', 'e', 'p', 'r'],\n",
        "    'price_fl': [2.35, 2.38, 2.11, 2.76, 2.22]\n",
        "})\n",
        "fuel"
      ]
    },
    {
      "cell_type": "code",
      "execution_count": 64,
      "metadata": {
        "id": "iRnpidvx8gSd"
      },
      "outputs": [],
      "source": [
        "mpg = pd.read_csv('mpg.csv')\n",
        "\n",
        "# mpg에 연료 가격(fuel 데이터프레임)추가\n",
        "mpg = pd.merge(mpg, fuel, on='fl', how='left')"
      ]
    },
    {
      "cell_type": "code",
      "execution_count": 65,
      "metadata": {
        "colab": {
          "base_uri": "https://localhost:8080/",
          "height": 206
        },
        "id": "J-egKeG29WAr",
        "outputId": "41699502-e478-4408-adc5-a5b78a18e10c"
      },
      "outputs": [
        {
          "data": {
            "text/html": [
              "<div>\n",
              "<style scoped>\n",
              "    .dataframe tbody tr th:only-of-type {\n",
              "        vertical-align: middle;\n",
              "    }\n",
              "\n",
              "    .dataframe tbody tr th {\n",
              "        vertical-align: top;\n",
              "    }\n",
              "\n",
              "    .dataframe thead th {\n",
              "        text-align: right;\n",
              "    }\n",
              "</style>\n",
              "<table border=\"1\" class=\"dataframe\">\n",
              "  <thead>\n",
              "    <tr style=\"text-align: right;\">\n",
              "      <th></th>\n",
              "      <th>manufacturer</th>\n",
              "      <th>model</th>\n",
              "      <th>displ</th>\n",
              "      <th>year</th>\n",
              "      <th>cyl</th>\n",
              "      <th>trans</th>\n",
              "      <th>drv</th>\n",
              "      <th>cty</th>\n",
              "      <th>hwy</th>\n",
              "      <th>fl</th>\n",
              "      <th>category</th>\n",
              "      <th>price_fl</th>\n",
              "    </tr>\n",
              "  </thead>\n",
              "  <tbody>\n",
              "    <tr>\n",
              "      <th>0</th>\n",
              "      <td>audi</td>\n",
              "      <td>a4</td>\n",
              "      <td>1.8</td>\n",
              "      <td>1999</td>\n",
              "      <td>4</td>\n",
              "      <td>auto(l5)</td>\n",
              "      <td>f</td>\n",
              "      <td>18</td>\n",
              "      <td>29</td>\n",
              "      <td>p</td>\n",
              "      <td>compact</td>\n",
              "      <td>2.76</td>\n",
              "    </tr>\n",
              "    <tr>\n",
              "      <th>1</th>\n",
              "      <td>audi</td>\n",
              "      <td>a4</td>\n",
              "      <td>1.8</td>\n",
              "      <td>1999</td>\n",
              "      <td>4</td>\n",
              "      <td>manual(m5)</td>\n",
              "      <td>f</td>\n",
              "      <td>21</td>\n",
              "      <td>29</td>\n",
              "      <td>p</td>\n",
              "      <td>compact</td>\n",
              "      <td>2.76</td>\n",
              "    </tr>\n",
              "    <tr>\n",
              "      <th>2</th>\n",
              "      <td>audi</td>\n",
              "      <td>a4</td>\n",
              "      <td>2.0</td>\n",
              "      <td>2008</td>\n",
              "      <td>4</td>\n",
              "      <td>manual(m6)</td>\n",
              "      <td>f</td>\n",
              "      <td>20</td>\n",
              "      <td>31</td>\n",
              "      <td>p</td>\n",
              "      <td>compact</td>\n",
              "      <td>2.76</td>\n",
              "    </tr>\n",
              "    <tr>\n",
              "      <th>3</th>\n",
              "      <td>audi</td>\n",
              "      <td>a4</td>\n",
              "      <td>2.0</td>\n",
              "      <td>2008</td>\n",
              "      <td>4</td>\n",
              "      <td>auto(av)</td>\n",
              "      <td>f</td>\n",
              "      <td>21</td>\n",
              "      <td>30</td>\n",
              "      <td>p</td>\n",
              "      <td>compact</td>\n",
              "      <td>2.76</td>\n",
              "    </tr>\n",
              "    <tr>\n",
              "      <th>4</th>\n",
              "      <td>audi</td>\n",
              "      <td>a4</td>\n",
              "      <td>2.8</td>\n",
              "      <td>1999</td>\n",
              "      <td>6</td>\n",
              "      <td>auto(l5)</td>\n",
              "      <td>f</td>\n",
              "      <td>16</td>\n",
              "      <td>26</td>\n",
              "      <td>p</td>\n",
              "      <td>compact</td>\n",
              "      <td>2.76</td>\n",
              "    </tr>\n",
              "  </tbody>\n",
              "</table>\n",
              "</div>"
            ],
            "text/plain": [
              "  manufacturer model  displ  year  cyl       trans drv  cty  hwy fl category  \\\n",
              "0         audi    a4    1.8  1999    4    auto(l5)   f   18   29  p  compact   \n",
              "1         audi    a4    1.8  1999    4  manual(m5)   f   21   29  p  compact   \n",
              "2         audi    a4    2.0  2008    4  manual(m6)   f   20   31  p  compact   \n",
              "3         audi    a4    2.0  2008    4    auto(av)   f   21   30  p  compact   \n",
              "4         audi    a4    2.8  1999    6    auto(l5)   f   16   26  p  compact   \n",
              "\n",
              "   price_fl  \n",
              "0      2.76  \n",
              "1      2.76  \n",
              "2      2.76  \n",
              "3      2.76  \n",
              "4      2.76  "
            ]
          },
          "execution_count": 65,
          "metadata": {},
          "output_type": "execute_result"
        }
      ],
      "source": [
        "mpg.head()"
      ]
    },
    {
      "cell_type": "code",
      "execution_count": 66,
      "metadata": {
        "colab": {
          "base_uri": "https://localhost:8080/",
          "height": 206
        },
        "id": "ojX6LRl59Dc5",
        "outputId": "9318c1ed-f98c-459b-c896-60257c94f000"
      },
      "outputs": [
        {
          "data": {
            "text/html": [
              "<div>\n",
              "<style scoped>\n",
              "    .dataframe tbody tr th:only-of-type {\n",
              "        vertical-align: middle;\n",
              "    }\n",
              "\n",
              "    .dataframe tbody tr th {\n",
              "        vertical-align: top;\n",
              "    }\n",
              "\n",
              "    .dataframe thead th {\n",
              "        text-align: right;\n",
              "    }\n",
              "</style>\n",
              "<table border=\"1\" class=\"dataframe\">\n",
              "  <thead>\n",
              "    <tr style=\"text-align: right;\">\n",
              "      <th></th>\n",
              "      <th>model</th>\n",
              "      <th>fl</th>\n",
              "      <th>price_fl</th>\n",
              "    </tr>\n",
              "  </thead>\n",
              "  <tbody>\n",
              "    <tr>\n",
              "      <th>0</th>\n",
              "      <td>a4</td>\n",
              "      <td>p</td>\n",
              "      <td>2.76</td>\n",
              "    </tr>\n",
              "    <tr>\n",
              "      <th>1</th>\n",
              "      <td>a4</td>\n",
              "      <td>p</td>\n",
              "      <td>2.76</td>\n",
              "    </tr>\n",
              "    <tr>\n",
              "      <th>2</th>\n",
              "      <td>a4</td>\n",
              "      <td>p</td>\n",
              "      <td>2.76</td>\n",
              "    </tr>\n",
              "    <tr>\n",
              "      <th>3</th>\n",
              "      <td>a4</td>\n",
              "      <td>p</td>\n",
              "      <td>2.76</td>\n",
              "    </tr>\n",
              "    <tr>\n",
              "      <th>4</th>\n",
              "      <td>a4</td>\n",
              "      <td>p</td>\n",
              "      <td>2.76</td>\n",
              "    </tr>\n",
              "  </tbody>\n",
              "</table>\n",
              "</div>"
            ],
            "text/plain": [
              "  model fl  price_fl\n",
              "0    a4  p      2.76\n",
              "1    a4  p      2.76\n",
              "2    a4  p      2.76\n",
              "3    a4  p      2.76\n",
              "4    a4  p      2.76"
            ]
          },
          "execution_count": 66,
          "metadata": {},
          "output_type": "execute_result"
        }
      ],
      "source": [
        "# model, fl, price_fl 추출 5개\n",
        "mpg[['model', 'fl', 'price_fl']].head()"
      ]
    },
    {
      "cell_type": "code",
      "execution_count": 3,
      "metadata": {
        "id": "DqSp94y29tOa"
      },
      "outputs": [],
      "source": [
        "mpg = pd.read_csv('mpg.csv')"
      ]
    },
    {
      "cell_type": "code",
      "execution_count": 4,
      "metadata": {
        "id": "xmmz77p--XkC"
      },
      "outputs": [],
      "source": [
        "# 64, 123, 130, 152, 211행 'hwy'컬럼 자리에 결측치 대입\n",
        "mpg.loc[[64, 123, 130, 152, 211], 'hwy'] = np.nan"
      ]
    },
    {
      "cell_type": "code",
      "execution_count": 5,
      "metadata": {
        "colab": {
          "base_uri": "https://localhost:8080/",
          "height": 206
        },
        "id": "CBoQ39Jz-wiE",
        "outputId": "555ba932-f1e5-4c9c-a0ba-1fe97b8af40c"
      },
      "outputs": [
        {
          "data": {
            "text/html": [
              "<div>\n",
              "<style scoped>\n",
              "    .dataframe tbody tr th:only-of-type {\n",
              "        vertical-align: middle;\n",
              "    }\n",
              "\n",
              "    .dataframe tbody tr th {\n",
              "        vertical-align: top;\n",
              "    }\n",
              "\n",
              "    .dataframe thead th {\n",
              "        text-align: right;\n",
              "    }\n",
              "</style>\n",
              "<table border=\"1\" class=\"dataframe\">\n",
              "  <thead>\n",
              "    <tr style=\"text-align: right;\">\n",
              "      <th></th>\n",
              "      <th>manufacturer</th>\n",
              "      <th>model</th>\n",
              "      <th>displ</th>\n",
              "      <th>year</th>\n",
              "      <th>cyl</th>\n",
              "      <th>trans</th>\n",
              "      <th>drv</th>\n",
              "      <th>cty</th>\n",
              "      <th>hwy</th>\n",
              "      <th>fl</th>\n",
              "      <th>category</th>\n",
              "    </tr>\n",
              "  </thead>\n",
              "  <tbody>\n",
              "    <tr>\n",
              "      <th>64</th>\n",
              "      <td>dodge</td>\n",
              "      <td>ram 1500 pickup 4wd</td>\n",
              "      <td>4.7</td>\n",
              "      <td>2008</td>\n",
              "      <td>8</td>\n",
              "      <td>manual(m6)</td>\n",
              "      <td>4</td>\n",
              "      <td>12</td>\n",
              "      <td>NaN</td>\n",
              "      <td>r</td>\n",
              "      <td>pickup</td>\n",
              "    </tr>\n",
              "    <tr>\n",
              "      <th>123</th>\n",
              "      <td>jeep</td>\n",
              "      <td>grand cherokee 4wd</td>\n",
              "      <td>3.7</td>\n",
              "      <td>2008</td>\n",
              "      <td>6</td>\n",
              "      <td>auto(l5)</td>\n",
              "      <td>4</td>\n",
              "      <td>15</td>\n",
              "      <td>NaN</td>\n",
              "      <td>r</td>\n",
              "      <td>suv</td>\n",
              "    </tr>\n",
              "    <tr>\n",
              "      <th>130</th>\n",
              "      <td>land rover</td>\n",
              "      <td>range rover</td>\n",
              "      <td>4.0</td>\n",
              "      <td>1999</td>\n",
              "      <td>8</td>\n",
              "      <td>auto(l4)</td>\n",
              "      <td>4</td>\n",
              "      <td>11</td>\n",
              "      <td>NaN</td>\n",
              "      <td>p</td>\n",
              "      <td>suv</td>\n",
              "    </tr>\n",
              "    <tr>\n",
              "      <th>152</th>\n",
              "      <td>nissan</td>\n",
              "      <td>pathfinder 4wd</td>\n",
              "      <td>4.0</td>\n",
              "      <td>2008</td>\n",
              "      <td>6</td>\n",
              "      <td>auto(l5)</td>\n",
              "      <td>4</td>\n",
              "      <td>14</td>\n",
              "      <td>NaN</td>\n",
              "      <td>p</td>\n",
              "      <td>suv</td>\n",
              "    </tr>\n",
              "    <tr>\n",
              "      <th>211</th>\n",
              "      <td>volkswagen</td>\n",
              "      <td>gti</td>\n",
              "      <td>2.8</td>\n",
              "      <td>1999</td>\n",
              "      <td>6</td>\n",
              "      <td>manual(m5)</td>\n",
              "      <td>f</td>\n",
              "      <td>17</td>\n",
              "      <td>NaN</td>\n",
              "      <td>r</td>\n",
              "      <td>compact</td>\n",
              "    </tr>\n",
              "  </tbody>\n",
              "</table>\n",
              "</div>"
            ],
            "text/plain": [
              "    manufacturer                model  displ  year  cyl       trans drv  cty  \\\n",
              "64         dodge  ram 1500 pickup 4wd    4.7  2008    8  manual(m6)   4   12   \n",
              "123         jeep   grand cherokee 4wd    3.7  2008    6    auto(l5)   4   15   \n",
              "130   land rover          range rover    4.0  1999    8    auto(l4)   4   11   \n",
              "152       nissan       pathfinder 4wd    4.0  2008    6    auto(l5)   4   14   \n",
              "211   volkswagen                  gti    2.8  1999    6  manual(m5)   f   17   \n",
              "\n",
              "     hwy fl category  \n",
              "64   NaN  r   pickup  \n",
              "123  NaN  r      suv  \n",
              "130  NaN  p      suv  \n",
              "152  NaN  p      suv  \n",
              "211  NaN  r  compact  "
            ]
          },
          "execution_count": 5,
          "metadata": {},
          "output_type": "execute_result"
        }
      ],
      "source": [
        "mpg.loc[[64, 123, 130, 152, 211], :]"
      ]
    },
    {
      "cell_type": "code",
      "execution_count": 70,
      "metadata": {
        "colab": {
          "base_uri": "https://localhost:8080/",
          "height": 147
        },
        "id": "jAojdlSu-0CP",
        "outputId": "e690a743-5cc7-4716-d451-b355230d0f67"
      },
      "outputs": [
        {
          "data": {
            "text/plain": [
              "drv    0\n",
              "hwy    5\n",
              "dtype: int64"
            ]
          },
          "execution_count": 70,
          "metadata": {},
          "output_type": "execute_result"
        }
      ],
      "source": [
        "# 결측치 빈도 확인 - drv, hwy\n",
        "mpg[['drv', 'hwy']].isna().sum() # 결측치의 개수 (True는 1)"
      ]
    },
    {
      "cell_type": "code",
      "execution_count": 71,
      "metadata": {
        "colab": {
          "base_uri": "https://localhost:8080/",
          "height": 175
        },
        "id": "8B-4ZBn9_PdH",
        "outputId": "677a6c70-d7ce-4165-bf4e-28e7d4d0c090"
      },
      "outputs": [
        {
          "data": {
            "text/html": [
              "<div>\n",
              "<style scoped>\n",
              "    .dataframe tbody tr th:only-of-type {\n",
              "        vertical-align: middle;\n",
              "    }\n",
              "\n",
              "    .dataframe tbody tr th {\n",
              "        vertical-align: top;\n",
              "    }\n",
              "\n",
              "    .dataframe thead th {\n",
              "        text-align: right;\n",
              "    }\n",
              "</style>\n",
              "<table border=\"1\" class=\"dataframe\">\n",
              "  <thead>\n",
              "    <tr style=\"text-align: right;\">\n",
              "      <th></th>\n",
              "      <th>mean_hwy</th>\n",
              "    </tr>\n",
              "    <tr>\n",
              "      <th>drv</th>\n",
              "      <th></th>\n",
              "    </tr>\n",
              "  </thead>\n",
              "  <tbody>\n",
              "    <tr>\n",
              "      <th>4</th>\n",
              "      <td>19.242424</td>\n",
              "    </tr>\n",
              "    <tr>\n",
              "      <th>f</th>\n",
              "      <td>28.200000</td>\n",
              "    </tr>\n",
              "    <tr>\n",
              "      <th>r</th>\n",
              "      <td>21.000000</td>\n",
              "    </tr>\n",
              "  </tbody>\n",
              "</table>\n",
              "</div>"
            ],
            "text/plain": [
              "      mean_hwy\n",
              "drv           \n",
              "4    19.242424\n",
              "f    28.200000\n",
              "r    21.000000"
            ]
          },
          "execution_count": 71,
          "metadata": {},
          "output_type": "execute_result"
        }
      ],
      "source": [
        "# hwy 결측치 제거 -> 구동방식별(그룹) -> hwy 평균\n",
        "mpg.dropna(subset=['hwy']) \\\n",
        "    .groupby('drv') \\\n",
        "    .agg(mean_hwy = ('hwy', 'mean'))"
      ]
    },
    {
      "cell_type": "code",
      "execution_count": 6,
      "metadata": {
        "colab": {
          "base_uri": "https://localhost:8080/",
          "height": 430
        },
        "id": "mE4W781c_5rl",
        "outputId": "c40e10c6-922f-4dd8-80bc-2f47b098c3eb"
      },
      "outputs": [
        {
          "data": {
            "text/plain": [
              "<Axes: ylabel='hwy'>"
            ]
          },
          "execution_count": 6,
          "metadata": {},
          "output_type": "execute_result"
        },
        {
          "data": {
            "image/png": "[encoded data removed]",
            "text/plain": [
              "<Figure size 640x480 with 1 Axes>"
            ]
          },
          "metadata": {},
          "output_type": "display_data"
        }
      ],
      "source": [
        "# 상자 그림\n",
        "import seaborn as sns\n",
        "\n",
        "sns.boxplot(data=mpg, y='hwy')"
      ]
    },
    {
      "cell_type": "code",
      "execution_count": 8,
      "metadata": {},
      "outputs": [
        {
          "name": "stdout",
          "output_type": "stream",
          "text": [
            "18.0\n",
            "27.0\n",
            "9.0\n"
          ]
        }
      ],
      "source": [
        "# 1사분위수 Q1 하위 25%\n",
        "pct25 = mpg['hwy'].quantile(.25)\n",
        "print(pct25)\n",
        "\n",
        "# 3사분위수 Q3 하위 75%\n",
        "pct75 = mpg['hwy'].quantile(.75)\n",
        "print(pct75)\n",
        "\n",
        "# IQR \n",
        "iqr = pct75 - pct25\n",
        "print(iqr)"
      ]
    },
    {
      "cell_type": "code",
      "execution_count": 9,
      "metadata": {
        "colab": {
          "base_uri": "https://localhost:8080/"
        },
        "id": "mETrxDt1B3MA",
        "outputId": "9c94a5f0-e216-410c-ec39-17fb7d83442a"
      },
      "outputs": [
        {
          "name": "stdout",
          "output_type": "stream",
          "text": [
            "4.5\n",
            "40.5\n"
          ]
        }
      ],
      "source": [
        "# 하한\n",
        "print(pct25 - 1.5 * iqr)\n",
        "\n",
        "# 상한\n",
        "print(pct75 + 1.5 * iqr)"
      ]
    },
    {
      "cell_type": "code",
      "execution_count": 10,
      "metadata": {},
      "outputs": [],
      "source": [
        "# 극단치를 결측 처리\n",
        "# 4.5 ~ 40.5를 벗어나면 NaN(결측치)\n",
        "mpg['hwy'] = np.where((mpg['hwy'] < 4.5)|(mpg['hwy'] > 40.5), np.nan, mpg['hwy'])"
      ]
    },
    {
      "cell_type": "code",
      "execution_count": 11,
      "metadata": {
        "colab": {
          "base_uri": "https://localhost:8080/"
        },
        "id": "79IA_GjICrW-",
        "outputId": "9a3c28af-045f-49b0-9bce-8959b6c1ee4b"
      },
      "outputs": [
        {
          "data": {
            "text/plain": [
              "np.int64(8)"
            ]
          },
          "execution_count": 11,
          "metadata": {},
          "output_type": "execute_result"
        }
      ],
      "source": [
        "# 결측치 빈도 확인\n",
        "mpg['hwy'].isna().sum() "
      ]
    },
    {
      "cell_type": "code",
      "execution_count": 12,
      "metadata": {
        "colab": {
          "base_uri": "https://localhost:8080/",
          "height": 175
        },
        "id": "hN0aEMUtCxkS",
        "outputId": "aea14078-8b4b-4a9d-b619-e238b2e89b81"
      },
      "outputs": [
        {
          "data": {
            "text/html": [
              "<div>\n",
              "<style scoped>\n",
              "    .dataframe tbody tr th:only-of-type {\n",
              "        vertical-align: middle;\n",
              "    }\n",
              "\n",
              "    .dataframe tbody tr th {\n",
              "        vertical-align: top;\n",
              "    }\n",
              "\n",
              "    .dataframe thead th {\n",
              "        text-align: right;\n",
              "    }\n",
              "</style>\n",
              "<table border=\"1\" class=\"dataframe\">\n",
              "  <thead>\n",
              "    <tr style=\"text-align: right;\">\n",
              "      <th></th>\n",
              "      <th>mean_hwy</th>\n",
              "    </tr>\n",
              "    <tr>\n",
              "      <th>drv</th>\n",
              "      <th></th>\n",
              "    </tr>\n",
              "  </thead>\n",
              "  <tbody>\n",
              "    <tr>\n",
              "      <th>4</th>\n",
              "      <td>19.242424</td>\n",
              "    </tr>\n",
              "    <tr>\n",
              "      <th>f</th>\n",
              "      <td>27.764706</td>\n",
              "    </tr>\n",
              "    <tr>\n",
              "      <th>r</th>\n",
              "      <td>21.000000</td>\n",
              "    </tr>\n",
              "  </tbody>\n",
              "</table>\n",
              "</div>"
            ],
            "text/plain": [
              "      mean_hwy\n",
              "drv           \n",
              "4    19.242424\n",
              "f    27.764706\n",
              "r    21.000000"
            ]
          },
          "execution_count": 12,
          "metadata": {},
          "output_type": "execute_result"
        }
      ],
      "source": [
        "# 결측치 제거 -> drv(구동방식)별 hwy(고속도로 연비) 평균\n",
        "mpg.dropna(subset=['hwy']).groupby('drv').agg(mean_hwy = ('hwy', 'mean'))"
      ]
    },
    {
      "cell_type": "code",
      "execution_count": null,
      "metadata": {
        "id": "4M7fze6tDT0J"
      },
      "outputs": [
        {
          "name": "stdout",
          "output_type": "stream",
          "text": [
            "   manufacturer        model  displ  year  cyl       trans drv  cty  hwy fl  \\\n",
            "9          audi   a4 quattro    2.0  2008    4  manual(m6)   k   20   28  p   \n",
            "13         audi   a4 quattro    3.1  2008    6    auto(s6)   k   17   25  p   \n",
            "57        dodge  durango 4wd    3.9  1999    6    auto(l4)   k   13   17  r   \n",
            "92         ford      mustang    4.0  2008    6  manual(m5)   k   17   26  r   \n",
            "\n",
            "      category  \n",
            "9      compact  \n",
            "13     compact  \n",
            "57         suv  \n",
            "92  subcompact  \n",
            "    manufacturer               model  displ  year  cyl       trans drv  cty  \\\n",
            "28     chevrolet     k1500 tahoe 4wd    5.3  2008    8    auto(l4)   4    3   \n",
            "42         dodge         caravan 2wd    3.3  2008    6    auto(l4)   f    4   \n",
            "128         jeep  grand cherokee 4wd    5.7  2008    8    auto(l5)   4   39   \n",
            "202       toyota   toyota tacoma 4wd    2.7  2008    4  manual(m5)   4   42   \n",
            "\n",
            "     hwy fl category  \n",
            "28    19  r      suv  \n",
            "42    24  r  minivan  \n",
            "128   18  r      suv  \n",
            "202   22  r   pickup  \n"
          ]
        }
      ],
      "source": [
        "# 이상치 만들기\n",
        "mpg = pd.read_csv('mpg.csv')\n",
        "\n",
        "# drv에 원래 4(사륜구동), f(전륜구동), r(후륜구동)의 구동방식이 존재 -> 이상치 k를 할당\n",
        "mpg.loc[[9, 13, 57, 92], 'drv'] = 'k'\n",
        "print(mpg.loc[[9, 13, 57, 92], :]) # 인덱스 9, 13, 57, 92행의 컬럼 전체 확인\n",
        "\n",
        "# cty 이상치 할당\n",
        "mpg.loc[[28, 42, 128, 202], 'cty'] = [3, 4, 39, 42] \n",
        "print(mpg.loc[[28, 42, 128, 202], :]) \n"
      ]
    },
    {
      "cell_type": "code",
      "execution_count": null,
      "metadata": {},
      "outputs": [
        {
          "name": "stdout",
          "output_type": "stream",
          "text": [
            "drv\n",
            "f    106\n",
            "4    100\n",
            "r     24\n",
            "k      4\n",
            "Name: count, dtype: int64\n",
            "drv\n",
            "4    100\n",
            "f    106\n",
            "k      4\n",
            "r     24\n",
            "Name: count, dtype: int64\n"
          ]
        }
      ],
      "source": [
        "# drv의 이상치 확인\n",
        "print(mpg['drv'].value_counts()) # 빈도 많은 순\n",
        "print(mpg['drv'].value_counts().sort_index()) # 4, f, k, r 순서"
      ]
    },
    {
      "cell_type": "code",
      "execution_count": null,
      "metadata": {},
      "outputs": [
        {
          "name": "stdout",
          "output_type": "stream",
          "text": [
            "drv\n",
            "f    106\n",
            "4    100\n",
            "r     24\n",
            "Name: count, dtype: int64\n"
          ]
        }
      ],
      "source": [
        "# drv가 4, f, r -> 정상, 기존 값 유지 / k -> 결측치(NaN) 부여\n",
        "mpg['drv'] = np.where(mpg['drv'].isin(['4', 'f', 'r']), mpg['drv'], np.nan) # np.where(mpg['drv'] == 'k', np.nan, mpg['drv'])\n",
        "\n",
        "# 이상치 확인\n",
        "mpg['drv'].value_counts()"
      ]
    },
    {
      "cell_type": "code",
      "execution_count": null,
      "metadata": {},
      "outputs": [
        {
          "data": {
            "text/plain": [
              "<Axes: ylabel='cty'>"
            ]
          },
          "execution_count": 18,
          "metadata": {},
          "output_type": "execute_result"
        },
        {
          "data": {
            "image/png": "[encoded data removed]",
            "text/plain": [
              "<Figure size 640x480 with 1 Axes>"
            ]
          },
          "metadata": {},
          "output_type": "display_data"
        }
      ],
      "source": [
        "# import seaborn as sns\n",
        "# 상자 그림 만들기 -> cty에 이상치가 있는지 확인\n",
        "sns.boxplot(data=mpg, y='cty')"
      ]
    },
    {
      "cell_type": "code",
      "execution_count": null,
      "metadata": {},
      "outputs": [
        {
          "name": "stdout",
          "output_type": "stream",
          "text": [
            "14.0\n",
            "19.0\n",
            "5.0\n",
            "6.5\n",
            "26.5\n"
          ]
        }
      ],
      "source": [
        "# Q1 \n",
        "pct25 = mpg['cty'].quantile(.25)\n",
        "print(pct25) # 14\n",
        "\n",
        "# Q3\n",
        "pct75 = mpg['cty'].quantile(.75)\n",
        "print(pct75) # 19\n",
        "\n",
        "# IQR\n",
        "iqr = pct75 - pct25\n",
        "print(iqr) # 5\n",
        "\n",
        "# 하한\n",
        "print(pct25 - 1.5 * iqr) # 6.5\n",
        "\n",
        "# 상한\n",
        "print(pct75 + 1.5 * iqr) # 26.5"
      ]
    },
    {
      "cell_type": "code",
      "execution_count": 24,
      "metadata": {},
      "outputs": [],
      "source": [
        "# 6.5 ~ 26.5 이 아닌 그 외의 값은 NaN 부여\n",
        "mpg['cty'] = np.where((mpg['cty'] < 6.5)|(mpg['cty'] > 26.5), np.nan, mpg['cty'])"
      ]
    },
    {
      "cell_type": "code",
      "execution_count": null,
      "metadata": {},
      "outputs": [
        {
          "data": {
            "text/plain": [
              "<Axes: ylabel='cty'>"
            ]
          },
          "execution_count": 25,
          "metadata": {},
          "output_type": "execute_result"
        },
        {
          "data": {
            "image/png": "[encoded data removed]",
            "text/plain": [
              "<Figure size 640x480 with 1 Axes>"
            ]
          },
          "metadata": {},
          "output_type": "display_data"
        }
      ],
      "source": [
        "# 상자 그림 다시 확인\n",
        "sns.boxplot(data=mpg, y='cty') "
      ]
    },
    {
      "cell_type": "code",
      "execution_count": 26,
      "metadata": {},
      "outputs": [
        {
          "data": {
            "text/html": [
              "<div>\n",
              "<style scoped>\n",
              "    .dataframe tbody tr th:only-of-type {\n",
              "        vertical-align: middle;\n",
              "    }\n",
              "\n",
              "    .dataframe tbody tr th {\n",
              "        vertical-align: top;\n",
              "    }\n",
              "\n",
              "    .dataframe thead th {\n",
              "        text-align: right;\n",
              "    }\n",
              "</style>\n",
              "<table border=\"1\" class=\"dataframe\">\n",
              "  <thead>\n",
              "    <tr style=\"text-align: right;\">\n",
              "      <th></th>\n",
              "      <th>mean_cty</th>\n",
              "    </tr>\n",
              "    <tr>\n",
              "      <th>drv</th>\n",
              "      <th></th>\n",
              "    </tr>\n",
              "  </thead>\n",
              "  <tbody>\n",
              "    <tr>\n",
              "      <th>4</th>\n",
              "      <td>14.247423</td>\n",
              "    </tr>\n",
              "    <tr>\n",
              "      <th>f</th>\n",
              "      <td>19.470000</td>\n",
              "    </tr>\n",
              "    <tr>\n",
              "      <th>r</th>\n",
              "      <td>13.958333</td>\n",
              "    </tr>\n",
              "  </tbody>\n",
              "</table>\n",
              "</div>"
            ],
            "text/plain": [
              "      mean_cty\n",
              "drv           \n",
              "4    14.247423\n",
              "f    19.470000\n",
              "r    13.958333"
            ]
          },
          "execution_count": 26,
          "metadata": {},
          "output_type": "execute_result"
        }
      ],
      "source": [
        "# 이상치 제거 후 -> drv별 cty의 평균\n",
        "mpg.dropna(subset=['drv', 'cty']).groupby('drv').agg(mean_cty = ('cty', 'mean'))"
      ]
    },
    {
      "cell_type": "code",
      "execution_count": null,
      "metadata": {},
      "outputs": [],
      "source": []
    }
  ],
  "metadata": {
    "colab": {
      "provenance": []
    },
    "kernelspec": {
      "display_name": "m02",
      "language": "python",
      "name": "python3"
    },
    "language_info": {
      "codemirror_mode": {
        "name": "ipython",
        "version": 3
      },
      "file_extension": ".py",
      "mimetype": "text/x-python",
      "name": "python",
      "nbconvert_exporter": "python",
      "pygments_lexer": "ipython3",
      "version": "3.12.10"
    }
  },
  "nbformat": 4,
  "nbformat_minor": 0
}
